{
 "cells": [
  {
   "cell_type": "code",
   "execution_count": null,
   "id": "557931e3",
   "metadata": {},
   "outputs": [],
   "source": [
    "%matplotlib widget\n",
    "import obspy\n",
    "from obspy.signal.trigger import classic_sta_lta, recursive_sta_lta, aic_simple\n",
    "from obspy.signal.trigger import plot_trigger\n",
    "from obspy.signal.trigger import coincidence_trigger\n",
    "from obspy.signal.cross_correlation import correlation_detector\n",
    "from obspy.signal import PPSD\n",
    "from obspy import read_inventory\n",
    "from obspy.realtime.signal import kurtosis\n",
    "from obspy.signal import filter\n",
    "\n",
    "\n",
    "\n",
    "from hydrophone_data_processing import load, useful_variables, plotting, signal_processing\n",
    "import obspy.signal.trigger as trigger\n",
    "from pprint import pprint\n",
    "import pandas as pd\n",
    "import numpy as np\n",
    "import matplotlib.pyplot as plt\n",
    "\n",
    "import plot_working\n",
    "import event_processing\n",
    "import loading_stream_function\n",
    "import filtering_fun\n",
    "\n",
    "import matplotlib.ticker as ticker\n",
    "from datetime import datetime\n",
    "from datetime import timedelta"
   ]
  },
  {
   "cell_type": "code",
   "execution_count": null,
   "id": "649c0ad4",
   "metadata": {},
   "outputs": [],
   "source": [
    "from IPython.display import display, HTML\n",
    "display(HTML(\"<style>.container { width:100% !important; }</style>\"))"
   ]
  },
  {
   "cell_type": "code",
   "execution_count": null,
   "id": "e8a9e28f",
   "metadata": {},
   "outputs": [],
   "source": [
    "chan = 'GHZ'\n",
    "#statlist = [ 'A01' ,'A03' , 'A05' , 'A07' , 'A09' , 'A11' , 'A13' , 'A15' , 'A17' , 'A19' ]\n",
    "statlist = [ 'A01' ,'A02' , 'A03' , 'A04' , 'A05' , 'A06' , 'A07' , 'A08' , 'A09', 'A10' , 'A11', 'A13', 'A14', 'A19']#, 'A16', 'A17', 'A18', 'A19' ]\n",
    "#statlist = [ 'B01' ,'B02' , 'B03' , 'B04' , 'B06' , 'B07' , 'B08' , 'B09','B10' , 'B11', 'B12', 'B13' , 'B19' , 'B20']#,'B14','B15','B16','B17','B18','B19', 'B20' ]\n",
    "\n",
    "day = 15\n",
    "stream = obspy.read(\"/media/sbrent/Oman3/PASSCAL/Main_deployment/DAYS/\" +statlist[0]+ \"/*..\" + chan +\".2020.0\" +str(day))\n"
   ]
  },
  {
   "cell_type": "code",
   "execution_count": null,
   "id": "f1b538c9",
   "metadata": {},
   "outputs": [],
   "source": [
    "for s in statlist[1:]:\n",
    "    \n",
    "    stream += obspy.read(\"/media/sbrent/Oman3/PASSCAL/Main_deployment/DAYS/\" + s + \"/*..\" + chan + \".2020.0\" + str(day))\n"
   ]
  },
  {
   "cell_type": "code",
   "execution_count": null,
   "id": "c6ca8ab5",
   "metadata": {},
   "outputs": [],
   "source": [
    "hr = 15\n",
    "start_time = obspy.UTCDateTime('2020-1-' + str(day) + 'T00:00:00')+hr*3600\n",
    "end_time = obspy.UTCDateTime('2020-1-' + str(day) + 'T00:00:00')+(hr+1)*3600\n",
    "data = stream.slice(starttime=start_time,endtime=end_time) #look into trim()\n",
    "#print(data)\n",
    "print(start_time, end_time)"
   ]
  },
  {
   "cell_type": "code",
   "execution_count": null,
   "id": "f1ab46d8",
   "metadata": {},
   "outputs": [],
   "source": [
    "data_test = data_cp8[0].data/(data_cp8[0].data).std()"
   ]
  },
  {
   "cell_type": "code",
   "execution_count": null,
   "id": "d17d2e52",
   "metadata": {},
   "outputs": [],
   "source": [
    "data_test"
   ]
  },
  {
   "cell_type": "code",
   "execution_count": null,
   "id": "a779442a",
   "metadata": {},
   "outputs": [],
   "source": [
    "data_cp8[0].data"
   ]
  },
  {
   "cell_type": "code",
   "execution_count": null,
   "id": "e28b24dc",
   "metadata": {},
   "outputs": [],
   "source": []
  },
  {
   "cell_type": "code",
   "execution_count": null,
   "id": "6e41e241",
   "metadata": {},
   "outputs": [],
   "source": []
  },
  {
   "cell_type": "code",
   "execution_count": null,
   "id": "323ae8fe",
   "metadata": {},
   "outputs": [],
   "source": []
  },
  {
   "cell_type": "code",
   "execution_count": null,
   "id": "536908cd",
   "metadata": {},
   "outputs": [],
   "source": []
  },
  {
   "cell_type": "code",
   "execution_count": null,
   "id": "00b81f38",
   "metadata": {},
   "outputs": [],
   "source": [
    "data_cp1 = data.copy()\n",
    "data_cp2 = data.copy()\n",
    "data_cp3 = data.copy()\n",
    "data_cp4 = data.copy()\n",
    "data_cp5 = data.copy()\n",
    "data_cp6 = data.copy()\n",
    "data_cp7 = data.copy()\n",
    "data_cp8 = data.copy()"
   ]
  },
  {
   "cell_type": "code",
   "execution_count": null,
   "id": "f520cf10",
   "metadata": {},
   "outputs": [],
   "source": [
    "stream_filt = data.filter('highpass', corners=4, freq=80, zerophase=False)\n",
    "stream_2 = stream_filt.copy()\n",
    "events = coincidence_trigger(\"classicstalta\", 5, 0.8, stream_2, 3, sta=0.02, lta=0.2)\n",
    "events = pd.DataFrame(events)"
   ]
  },
  {
   "cell_type": "code",
   "execution_count": null,
   "id": "7cc70f0c",
   "metadata": {},
   "outputs": [],
   "source": [
    "event_idx1 = 509\n",
    "event_idx2 = 147\n",
    "event_idx3 = 992\n",
    "event_idx4 = 1095\n",
    "event_idx5 = 1371\n",
    "event_idx6 = 1082\n",
    "event_idx7 = 475"
   ]
  },
  {
   "cell_type": "code",
   "execution_count": null,
   "id": "07820522",
   "metadata": {},
   "outputs": [],
   "source": [
    "data_w1, data_h1, data_b1 = filtering_fun.filter_waveforms(data_cp1, events,event_idx1)\n",
    "#data_w2, data_h2, data_b2 = filtering_fun.filter_waveforms(data_cp2, events,event_idx2)\n",
    "#data_w3, data_h3, data_b3 = filtering_fun.filter_waveforms(data_cp3, events,event_idx3)\n",
    "#data_w4, data_h4, data_b4 = filtering_fun.filter_waveforms(data_cp4, events,event_idx4)\n",
    "#data_w5, data_h5, data_b5 = filtering_fun.filter_waveforms(data_cp5, events,event_idx5)\n",
    "#data_w6, data_h6, data_b6 = filtering_fun.filter_waveforms(data_cp6, events,event_idx6)\n",
    "#data_w7, data_h7, data_b7 = filtering_fun.filter_waveforms(data_cp7, events,event_idx7)"
   ]
  },
  {
   "cell_type": "code",
   "execution_count": null,
   "id": "55c3c0ff",
   "metadata": {},
   "outputs": [],
   "source": [
    "filtering_fun.plot_unit_var_filtered_waveforms(data_w1, data_h1, data_b1, events, event_idx1)"
   ]
  },
  {
   "cell_type": "code",
   "execution_count": null,
   "id": "b06d6149",
   "metadata": {},
   "outputs": [],
   "source": [
    "filtering_fun.plot_filtered_waveforms(data_w2, data_h2, data_b2, events, event_idx2)"
   ]
  },
  {
   "cell_type": "code",
   "execution_count": null,
   "id": "81bf6b9d",
   "metadata": {},
   "outputs": [],
   "source": [
    "filtering_fun.plot_filtered_waveforms(data_w3, data_h3, data_b3, events, event_idx3)"
   ]
  },
  {
   "cell_type": "code",
   "execution_count": null,
   "id": "a0e0c65f",
   "metadata": {},
   "outputs": [],
   "source": [
    "filtering_fun.plot_filtered_waveforms(data_w4, data_h4, data_b4, events, event_idx4)"
   ]
  },
  {
   "cell_type": "code",
   "execution_count": null,
   "id": "4b389854",
   "metadata": {},
   "outputs": [],
   "source": [
    "filtering_fun.plot_filtered_waveforms(data_w5, data_h5, data_b5, events, event_idx5)"
   ]
  },
  {
   "cell_type": "code",
   "execution_count": null,
   "id": "9c9358ed",
   "metadata": {},
   "outputs": [],
   "source": [
    "filtering_fun.plot_filtered_waveforms(data_w6, data_h6, data_b6, events, event_idx6)"
   ]
  },
  {
   "cell_type": "code",
   "execution_count": null,
   "id": "d1e78af5",
   "metadata": {},
   "outputs": [],
   "source": [
    "filtering_fun.plot_filtered_waveforms(data_w7, data_h7, data_b7, events, event_idx7)"
   ]
  },
  {
   "cell_type": "code",
   "execution_count": null,
   "id": "55c7448d",
   "metadata": {},
   "outputs": [],
   "source": []
  }
 ],
 "metadata": {
  "kernelspec": {
   "display_name": "Python 3 (ipykernel)",
   "language": "python",
   "name": "python3"
  },
  "language_info": {
   "codemirror_mode": {
    "name": "ipython",
    "version": 3
   },
   "file_extension": ".py",
   "mimetype": "text/x-python",
   "name": "python",
   "nbconvert_exporter": "python",
   "pygments_lexer": "ipython3",
   "version": "3.8.10"
  }
 },
 "nbformat": 4,
 "nbformat_minor": 5
}
