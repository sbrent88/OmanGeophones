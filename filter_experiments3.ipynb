{
 "cells": [
  {
   "cell_type": "code",
   "execution_count": 14,
   "id": "93613021",
   "metadata": {},
   "outputs": [],
   "source": [
    "%matplotlib widget\n",
    "import obspy\n",
    "from obspy.signal.trigger import classic_sta_lta, recursive_sta_lta, aic_simple\n",
    "from obspy.signal.trigger import plot_trigger\n",
    "from obspy.signal.trigger import coincidence_trigger\n",
    "from obspy.signal.cross_correlation import correlation_detector\n",
    "from obspy.signal import PPSD\n",
    "from obspy import read_inventory\n",
    "from obspy.realtime.signal import kurtosis\n",
    "\n",
    "\n",
    "\n",
    "\n",
    "from hydrophone_data_processing import load, useful_variables, plotting, signal_processing\n",
    "import obspy.signal.trigger as trigger\n",
    "from pprint import pprint\n",
    "import pandas as pd\n",
    "import numpy as np\n",
    "import matplotlib.pyplot as plt\n",
    "\n",
    "import plot_working\n",
    "import event_processing\n",
    "import loading_stream_function\n",
    "\n",
    "import matplotlib.ticker as ticker\n",
    "from datetime import datetime\n",
    "from datetime import timedelta\n",
    "from scipy.signal import windows, freqz"
   ]
  },
  {
   "cell_type": "code",
   "execution_count": 15,
   "id": "c7b3edec",
   "metadata": {},
   "outputs": [
    {
     "data": {
      "text/html": [
       "<style>.container { width:100% !important; }</style>"
      ],
      "text/plain": [
       "<IPython.core.display.HTML object>"
      ]
     },
     "metadata": {},
     "output_type": "display_data"
    }
   ],
   "source": [
    "from IPython.display import display, HTML\n",
    "display(HTML(\"<style>.container { width:100% !important; }</style>\"))"
   ]
  },
  {
   "cell_type": "code",
   "execution_count": 18,
   "id": "b9e3c19b",
   "metadata": {},
   "outputs": [],
   "source": [
    "chan = 'GHZ'\n",
    "#statlist = [ 'A01' ,'A03' , 'A05' , 'A07' , 'A09' , 'A11' , 'A13' , 'A15' , 'A17' , 'A19' ]\n",
    "statlist = [ 'A01' ,'A02' , 'A03' , 'A04' , 'A05' , 'A06' , 'A07' , 'A08' , 'A09', 'A10' , 'A11', 'A13', 'A14', 'A19']#, 'A16', 'A17', 'A18', 'A19' ]\n",
    "#statlist = [ 'B01' ,'B02' , 'B03' , 'B04' , 'B06' , 'B07' , 'B08' , 'B09','B10' , 'B11', 'B12', 'B13' , 'B19' , 'B20']#,'B14','B15','B16','B17','B18','B19', 'B20' ]\n",
    "inv = read_inventory(\"/media/sbrent/Oman3/7F.OmanDP.PIC.2020127.xml\",format=\"STATIONXML\")\n",
    "\n",
    "\n",
    "\n",
    "day = 15\n",
    "hr = 15\n",
    "start_time = obspy.UTCDateTime('2020-1-' + str(day) + 'T00:00:00')+hr*3600\n",
    "end_time = obspy.UTCDateTime('2020-1-' + str(day) + 'T00:00:00')+(hr+1)*3600\n",
    "stream = obspy.read(\"/media/sbrent/Oman3/PASSCAL/Main_deployment/DAYS/\" +statlist[0]+ \"/*..\" + chan +\".2020.0\" +str(day))\n",
    "\n",
    "\n",
    "#tr = stream.select(channel=chan)[0]\n",
    "#ppsd = PPSD(tr.stats, metadata = inv)\n",
    "#ppsd.add(stream)"
   ]
  },
  {
   "cell_type": "code",
   "execution_count": 17,
   "id": "64ccce72",
   "metadata": {},
   "outputs": [],
   "source": [
    "for s in statlist[1:]:\n",
    "    \n",
    "    stream += obspy.read(\"/media/sbrent/Oman3/PASSCAL/Main_deployment/DAYS/\" + s + \"/*..\" + chan + \".2020.0\" + str(day))\n",
    "    #tr = stream[0].copy()\n",
    "    #tr.remove_response(inventory=inv)  "
   ]
  },
  {
   "cell_type": "code",
   "execution_count": null,
   "id": "0cb1c33a",
   "metadata": {},
   "outputs": [],
   "source": []
  },
  {
   "cell_type": "code",
   "execution_count": null,
   "id": "34a2f658",
   "metadata": {},
   "outputs": [],
   "source": [
    "data = stream.slice(starttime=start_time,endtime=end_time) #look into trim()\n",
    "#print(data)\n",
    "print(start_time, end_time)"
   ]
  },
  {
   "cell_type": "code",
   "execution_count": null,
   "id": "3e21ee97",
   "metadata": {},
   "outputs": [],
   "source": [
    "#data = data.decimate(2)\n",
    "data1 = data.copy()\n",
    "#stream_filt = data1.filter('highpass', corners=4, freq=80, zerophase=False)"
   ]
  },
  {
   "cell_type": "code",
   "execution_count": null,
   "id": "7cd10631",
   "metadata": {},
   "outputs": [],
   "source": [
    "stream_filt = data.filter('highpass', corners=4, freq=80, zerophase=False)\n",
    "stream_2 = stream_filt.copy()\n",
    "\n",
    "events = coincidence_trigger(\"classicstalta\", 5, 0.8, stream_2, 3, sta=0.02, lta=0.2)\n",
    "\n",
    "\n",
    "\n",
    "\n",
    "#events = coincidence_trigger(\"classicstalta\", 4, 0.5, stream_2, 3, sta=0.08, lta=0.5)\n",
    "events = pd.DataFrame(events)"
   ]
  },
  {
   "cell_type": "code",
   "execution_count": null,
   "id": "f6f029e7",
   "metadata": {},
   "outputs": [],
   "source": [
    "event_id = 509\n",
    "event_meta = events.iloc[event_id]\n",
    "TIME = events.time[event_id]"
   ]
  },
  {
   "cell_type": "code",
   "execution_count": null,
   "id": "db59b633",
   "metadata": {},
   "outputs": [],
   "source": [
    "g_wind1 = event_processing.get_event_window_raw(data1,TIME)"
   ]
  },
  {
   "cell_type": "code",
   "execution_count": null,
   "id": "ba3449f3",
   "metadata": {},
   "outputs": [],
   "source": [
    "N = len(g_wind1[0].data)\n",
    "NW = 2.5\n",
    "k = 4\n",
    "data = g_wind1[0].data\n",
    "dt=g_wind1[0].stats.delta"
   ]
  },
  {
   "cell_type": "code",
   "execution_count": 2,
   "id": "078d4e87",
   "metadata": {},
   "outputs": [
    {
     "ename": "TypeError",
     "evalue": "dpss() missing 1 required positional argument: 'M'",
     "output_type": "error",
     "traceback": [
      "\u001b[0;31m---------------------------------------------------------------------------\u001b[0m",
      "\u001b[0;31mTypeError\u001b[0m                                 Traceback (most recent call last)",
      "Input \u001b[0;32mIn [2]\u001b[0m, in \u001b[0;36m<cell line: 1>\u001b[0;34m()\u001b[0m\n\u001b[0;32m----> 1\u001b[0m \u001b[43mwindows\u001b[49m\u001b[38;5;241;43m.\u001b[39;49m\u001b[43mdpss\u001b[49m\u001b[43m(\u001b[49m\u001b[43mNW\u001b[49m\u001b[38;5;241;43m=\u001b[39;49m\u001b[38;5;241;43m2.5\u001b[39;49m\u001b[43m,\u001b[49m\u001b[43m \u001b[49m\u001b[43mKmax\u001b[49m\u001b[43m \u001b[49m\u001b[38;5;241;43m=\u001b[39;49m\u001b[43m \u001b[49m\u001b[38;5;241;43m4\u001b[39;49m\u001b[43m)\u001b[49m\n",
      "\u001b[0;31mTypeError\u001b[0m: dpss() missing 1 required positional argument: 'M'"
     ]
    }
   ],
   "source": [
    "windows.dpss(NW=2.5, Kmax = 4)"
   ]
  },
  {
   "cell_type": "code",
   "execution_count": 3,
   "id": "1ff5dffa",
   "metadata": {},
   "outputs": [
    {
     "ename": "NameError",
     "evalue": "name 'g_wind1' is not defined",
     "output_type": "error",
     "traceback": [
      "\u001b[0;31m---------------------------------------------------------------------------\u001b[0m",
      "\u001b[0;31mNameError\u001b[0m                                 Traceback (most recent call last)",
      "Input \u001b[0;32mIn [3]\u001b[0m, in \u001b[0;36m<cell line: 1>\u001b[0;34m()\u001b[0m\n\u001b[0;32m----> 1\u001b[0m \u001b[38;5;241m2.5\u001b[39m\u001b[38;5;241m/\u001b[39m\u001b[43mg_wind1\u001b[49m[\u001b[38;5;241m0\u001b[39m]\u001b[38;5;241m.\u001b[39mstats\u001b[38;5;241m.\u001b[39mnpts\n",
      "\u001b[0;31mNameError\u001b[0m: name 'g_wind1' is not defined"
     ]
    }
   ],
   "source": [
    "2.5/g_wind1[0].stats.npts"
   ]
  },
  {
   "cell_type": "code",
   "execution_count": null,
   "id": "82815c0f",
   "metadata": {},
   "outputs": [],
   "source": []
  },
  {
   "cell_type": "code",
   "execution_count": null,
   "id": "3d99eb37",
   "metadata": {},
   "outputs": [],
   "source": []
  },
  {
   "cell_type": "code",
   "execution_count": null,
   "id": "a3997b66",
   "metadata": {},
   "outputs": [],
   "source": []
  },
  {
   "cell_type": "code",
   "execution_count": null,
   "id": "6c727034",
   "metadata": {},
   "outputs": [],
   "source": []
  },
  {
   "cell_type": "code",
   "execution_count": null,
   "id": "fab240b5",
   "metadata": {},
   "outputs": [],
   "source": [
    "def pmtm(signal, dpss, axis=-1):\n",
    "    '''\n",
    "    Estimate the power spectral density of the input signal.\n",
    "    signal: n-dimensional array of real or complex values\n",
    "    dpss: the Slepian matrix\n",
    "    axis:   axis along which to apply the Slepian windows. Default is the last one.\n",
    "    '''\n",
    "    # conversion to positive-only index\n",
    "    axis_p = (axis + signal.ndim) % signal.ndim\n",
    "    sig_exp_shape = list(signal.shape[:axis]) + [1] + list(signal.shape[axis:])\n",
    "    tap_exp_shape = [1] * axis_p + \\\n",
    "        list(dpss.shape) + [1] * (signal.ndim - 1 - axis_p)\n",
    "    signal_tapered = signal.reshape(\n",
    "        sig_exp_shape) * dpss.reshape(tap_exp_shape)\n",
    "    return np.fft.fftshift(np.mean(np.absolute(np.fft.fft(signal_tapered, axis=axis_p + 1))**2, axis=axis_p), axes=axis_p)\n"
   ]
  },
  {
   "cell_type": "code",
   "execution_count": null,
   "id": "530f1c44",
   "metadata": {},
   "outputs": [],
   "source": []
  },
  {
   "cell_type": "code",
   "execution_count": null,
   "id": "7e94f394",
   "metadata": {},
   "outputs": [],
   "source": []
  },
  {
   "cell_type": "code",
   "execution_count": null,
   "id": "6e71e9da",
   "metadata": {},
   "outputs": [],
   "source": []
  },
  {
   "cell_type": "code",
   "execution_count": null,
   "id": "0c1b4e29",
   "metadata": {},
   "outputs": [],
   "source": []
  },
  {
   "cell_type": "code",
   "execution_count": null,
   "id": "31826cf0",
   "metadata": {},
   "outputs": [],
   "source": []
  }
 ],
 "metadata": {
  "kernelspec": {
   "display_name": "Python 3 (ipykernel)",
   "language": "python",
   "name": "python3"
  },
  "language_info": {
   "codemirror_mode": {
    "name": "ipython",
    "version": 3
   },
   "file_extension": ".py",
   "mimetype": "text/x-python",
   "name": "python",
   "nbconvert_exporter": "python",
   "pygments_lexer": "ipython3",
   "version": "3.8.10"
  }
 },
 "nbformat": 4,
 "nbformat_minor": 5
}
