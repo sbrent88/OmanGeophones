{
 "cells": [
  {
   "cell_type": "code",
   "execution_count": 1,
   "id": "caaada0f",
   "metadata": {},
   "outputs": [],
   "source": [
    "%matplotlib widget\n",
    "import obspy\n",
    "from obspy.signal.trigger import classic_sta_lta, recursive_sta_lta, aic_simple\n",
    "from obspy.signal.trigger import plot_trigger\n",
    "from obspy.signal.trigger import coincidence_trigger\n",
    "from obspy.signal.cross_correlation import correlation_detector\n",
    "from obspy.signal import PPSD\n",
    "from obspy import read_inventory\n",
    "from obspy.realtime.signal import kurtosis\n",
    "\n",
    "\n",
    "\n",
    "\n",
    "from hydrophone_data_processing import load, useful_variables, plotting, signal_processing\n",
    "import obspy.signal.trigger as trigger\n",
    "from pprint import pprint\n",
    "import pandas as pd\n",
    "import numpy as np\n",
    "import matplotlib.pyplot as plt\n",
    "\n",
    "import plot_working\n",
    "import event_processing\n",
    "import loading_stream_function\n",
    "\n",
    "import matplotlib.ticker as ticker\n",
    "from datetime import datetime\n",
    "from datetime import timedelta"
   ]
  },
  {
   "cell_type": "code",
   "execution_count": 2,
   "id": "3933ba5d",
   "metadata": {},
   "outputs": [],
   "source": [
    "class PrecisionDateFormatter(ticker.Formatter):\n",
    "    \"\"\"\n",
    "    Extend the `matplotlib.ticker.Formatter` class to allow for millisecond\n",
    "    precision when formatting a tick (in days since the epoch) with a\n",
    "    `~datetime.datetime.strftime` format string.\n",
    "\n",
    "    \"\"\"\n",
    "\n",
    "    def __init__(self, fmt, precision=3, tz=None):\n",
    "        \"\"\"\n",
    "        Parameters\n",
    "        ----------\n",
    "        fmt : str\n",
    "            `~datetime.datetime.strftime` format string.\n",
    "        \"\"\"\n",
    "        from matplotlib.dates import num2date\n",
    "        if tz is None:\n",
    "            from matplotlib.dates import _get_rc_timezone\n",
    "            tz = _get_rc_timezone()\n",
    "        self.num2date = num2date\n",
    "        self.fmt = fmt\n",
    "        self.tz = tz\n",
    "        self.precision = precision\n",
    "\n",
    "    def __call__(self, x, pos=0):\n",
    "        if x == 0:\n",
    "            raise ValueError(\"DateFormatter found a value of x=0, which is \"\n",
    "                             \"an illegal date; this usually occurs because \"\n",
    "                             \"you have not informed the axis that it is \"\n",
    "                             \"plotting dates, e.g., with ax.xaxis_date()\")\n",
    "\n",
    "        dt = self.num2date(x, self.tz)\n",
    "        ms = dt.strftime(\"%f\")[:self.precision]\n",
    "\n",
    "        return dt.strftime(self.fmt).format(ms=ms)\n",
    "\n",
    "    def set_tzinfo(self, tz):\n",
    "        self.tz = tz\n"
   ]
  },
  {
   "cell_type": "code",
   "execution_count": 3,
   "id": "105f92cd",
   "metadata": {},
   "outputs": [
    {
     "data": {
      "text/html": [
       "<style>.container { width:100% !important; }</style>"
      ],
      "text/plain": [
       "<IPython.core.display.HTML object>"
      ]
     },
     "metadata": {},
     "output_type": "display_data"
    }
   ],
   "source": [
    "from IPython.display import display, HTML\n",
    "display(HTML(\"<style>.container { width:100% !important; }</style>\"))"
   ]
  },
  {
   "cell_type": "code",
   "execution_count": 4,
   "id": "066efa60",
   "metadata": {},
   "outputs": [],
   "source": [
    "chan = 'GHZ'\n",
    "#statlist = [ 'A01' ,'A03' , 'A05' , 'A07' , 'A09' , 'A11' , 'A13' , 'A15' , 'A17' , 'A19' ]\n",
    "statlist = [ 'A01' ,'A02' , 'A03' , 'A04' , 'A05' , 'A06' , 'A07' , 'A08' , 'A09', 'A10' , 'A11', 'A13', 'A14', 'A19']#, 'A16', 'A17', 'A18', 'A19' ]\n",
    "#statlist = [ 'B01' ,'B02' , 'B03' , 'B04' , 'B06' , 'B07' , 'B08' , 'B09','B10' , 'B11', 'B12', 'B13' , 'B19' , 'B20']#,'B14','B15','B16','B17','B18','B19', 'B20' ]\n",
    "\n",
    "day = 15\n",
    "hr = 15\n",
    "start_time = obspy.UTCDateTime('2020-1-' + str(day) + 'T00:00:00')+hr*3600\n",
    "end_time = obspy.UTCDateTime('2020-1-' + str(day) + 'T00:00:00')+(hr+1)*3600\n",
    "stream = obspy.read(\"/media/sbrent/Oman3/PASSCAL/Main_deployment/DAYS/\" +statlist[0]+ \"/*..\" + chan +\".2020.0\" +str(day))\n"
   ]
  },
  {
   "cell_type": "code",
   "execution_count": 5,
   "id": "475fcebb",
   "metadata": {},
   "outputs": [],
   "source": [
    "for s in statlist[1:]:\n",
    "    \n",
    "    stream += obspy.read(\"/media/sbrent/Oman3/PASSCAL/Main_deployment/DAYS/\" + s + \"/*..\" + chan + \".2020.0\" + str(day))\n"
   ]
  },
  {
   "cell_type": "code",
   "execution_count": 6,
   "id": "24920678",
   "metadata": {},
   "outputs": [],
   "source": [
    "data = stream.slice(starttime=start_time,endtime=end_time) #look into trim()\n",
    "#print(data)"
   ]
  },
  {
   "cell_type": "code",
   "execution_count": null,
   "id": "51ce67c1",
   "metadata": {},
   "outputs": [],
   "source": [
    "data = data.detrend(\"linear\")"
   ]
  },
  {
   "cell_type": "code",
   "execution_count": 7,
   "id": "374451d0",
   "metadata": {},
   "outputs": [],
   "source": [
    "data = data.detrend(\"demean\")"
   ]
  },
  {
   "cell_type": "code",
   "execution_count": 9,
   "id": "dedd9e75",
   "metadata": {},
   "outputs": [],
   "source": [
    "data1 = data.copy()"
   ]
  },
  {
   "cell_type": "code",
   "execution_count": 11,
   "id": "c73b2cd6",
   "metadata": {},
   "outputs": [],
   "source": [
    "events = coincidence_trigger(\"classicstalta\", 5, 0.8, data1, 3, sta=0.02, lta=0.2)\n",
    "\n",
    "\n",
    "\n",
    "\n",
    "#events = coincidence_trigger(\"classicstalta\", 4, 0.5, stream_2, 3, sta=0.08, lta=0.5)\n",
    "events = pd.DataFrame(events)"
   ]
  },
  {
   "cell_type": "code",
   "execution_count": 12,
   "id": "af11606b",
   "metadata": {},
   "outputs": [
    {
     "data": {
      "text/html": [
       "<div>\n",
       "<style scoped>\n",
       "    .dataframe tbody tr th:only-of-type {\n",
       "        vertical-align: middle;\n",
       "    }\n",
       "\n",
       "    .dataframe tbody tr th {\n",
       "        vertical-align: top;\n",
       "    }\n",
       "\n",
       "    .dataframe thead th {\n",
       "        text-align: right;\n",
       "    }\n",
       "</style>\n",
       "<table border=\"1\" class=\"dataframe\">\n",
       "  <thead>\n",
       "    <tr style=\"text-align: right;\">\n",
       "      <th></th>\n",
       "      <th>time</th>\n",
       "      <th>stations</th>\n",
       "      <th>trace_ids</th>\n",
       "      <th>coincidence_sum</th>\n",
       "      <th>similarity</th>\n",
       "      <th>duration</th>\n",
       "    </tr>\n",
       "  </thead>\n",
       "  <tbody>\n",
       "    <tr>\n",
       "      <th>0</th>\n",
       "      <td>2020-01-15T15:00:02.857000Z</td>\n",
       "      <td>[A04, A03, A06, A01, A02, A05]</td>\n",
       "      <td>[7F.A04..BHZ, 7F.A03..BHZ, 7F.A06..BHZ, 7F.A01...</td>\n",
       "      <td>6.0</td>\n",
       "      <td>{}</td>\n",
       "      <td>0.131</td>\n",
       "    </tr>\n",
       "    <tr>\n",
       "      <th>1</th>\n",
       "      <td>2020-01-15T15:00:03.378000Z</td>\n",
       "      <td>[A04, A03, A02, A06]</td>\n",
       "      <td>[7F.A04..BHZ, 7F.A03..BHZ, 7F.A02..BHZ, 7F.A06...</td>\n",
       "      <td>4.0</td>\n",
       "      <td>{}</td>\n",
       "      <td>0.106</td>\n",
       "    </tr>\n",
       "    <tr>\n",
       "      <th>2</th>\n",
       "      <td>2020-01-15T15:00:39.894000Z</td>\n",
       "      <td>[A04, A03, A06, A02, A05, A01]</td>\n",
       "      <td>[7F.A04..BHZ, 7F.A03..BHZ, 7F.A06..BHZ, 7F.A02...</td>\n",
       "      <td>6.0</td>\n",
       "      <td>{}</td>\n",
       "      <td>0.131</td>\n",
       "    </tr>\n",
       "    <tr>\n",
       "      <th>3</th>\n",
       "      <td>2020-01-15T15:00:41.142000Z</td>\n",
       "      <td>[A04, A03, A06, A02, A01]</td>\n",
       "      <td>[7F.A04..BHZ, 7F.A03..BHZ, 7F.A06..BHZ, 7F.A02...</td>\n",
       "      <td>5.0</td>\n",
       "      <td>{}</td>\n",
       "      <td>0.108</td>\n",
       "    </tr>\n",
       "    <tr>\n",
       "      <th>4</th>\n",
       "      <td>2020-01-15T15:00:43.219000Z</td>\n",
       "      <td>[A04, A03, A06, A05, A02, A01]</td>\n",
       "      <td>[7F.A04..BHZ, 7F.A03..BHZ, 7F.A06..BHZ, 7F.A05...</td>\n",
       "      <td>6.0</td>\n",
       "      <td>{}</td>\n",
       "      <td>0.136</td>\n",
       "    </tr>\n",
       "    <tr>\n",
       "      <th>...</th>\n",
       "      <td>...</td>\n",
       "      <td>...</td>\n",
       "      <td>...</td>\n",
       "      <td>...</td>\n",
       "      <td>...</td>\n",
       "      <td>...</td>\n",
       "    </tr>\n",
       "    <tr>\n",
       "      <th>1496</th>\n",
       "      <td>2020-01-15T15:59:53.218000Z</td>\n",
       "      <td>[A04, A03, A06, A01, A02, A05, A09]</td>\n",
       "      <td>[7F.A04..BHZ, 7F.A03..BHZ, 7F.A06..BHZ, 7F.A01...</td>\n",
       "      <td>7.0</td>\n",
       "      <td>{}</td>\n",
       "      <td>0.167</td>\n",
       "    </tr>\n",
       "    <tr>\n",
       "      <th>1497</th>\n",
       "      <td>2020-01-15T15:59:53.714000Z</td>\n",
       "      <td>[A04, A03, A06, A01, A02, A05]</td>\n",
       "      <td>[7F.A04..BHZ, 7F.A03..BHZ, 7F.A06..BHZ, 7F.A01...</td>\n",
       "      <td>6.0</td>\n",
       "      <td>{}</td>\n",
       "      <td>0.102</td>\n",
       "    </tr>\n",
       "    <tr>\n",
       "      <th>1498</th>\n",
       "      <td>2020-01-15T15:59:56.054000Z</td>\n",
       "      <td>[A04, A06, A03, A01, A02, A05]</td>\n",
       "      <td>[7F.A04..BHZ, 7F.A06..BHZ, 7F.A03..BHZ, 7F.A01...</td>\n",
       "      <td>6.0</td>\n",
       "      <td>{}</td>\n",
       "      <td>0.131</td>\n",
       "    </tr>\n",
       "    <tr>\n",
       "      <th>1499</th>\n",
       "      <td>2020-01-15T15:59:56.492000Z</td>\n",
       "      <td>[A04, A03, A06, A05, A02, A01, A10]</td>\n",
       "      <td>[7F.A04..BHZ, 7F.A03..BHZ, 7F.A06..BHZ, 7F.A05...</td>\n",
       "      <td>7.0</td>\n",
       "      <td>{}</td>\n",
       "      <td>0.184</td>\n",
       "    </tr>\n",
       "    <tr>\n",
       "      <th>1500</th>\n",
       "      <td>2020-01-15T15:59:57.691000Z</td>\n",
       "      <td>[A04, A03, A06, A01, A02, A05, A10]</td>\n",
       "      <td>[7F.A04..BHZ, 7F.A03..BHZ, 7F.A06..BHZ, 7F.A01...</td>\n",
       "      <td>7.0</td>\n",
       "      <td>{}</td>\n",
       "      <td>0.192</td>\n",
       "    </tr>\n",
       "  </tbody>\n",
       "</table>\n",
       "<p>1501 rows × 6 columns</p>\n",
       "</div>"
      ],
      "text/plain": [
       "                             time                             stations  \\\n",
       "0     2020-01-15T15:00:02.857000Z       [A04, A03, A06, A01, A02, A05]   \n",
       "1     2020-01-15T15:00:03.378000Z                 [A04, A03, A02, A06]   \n",
       "2     2020-01-15T15:00:39.894000Z       [A04, A03, A06, A02, A05, A01]   \n",
       "3     2020-01-15T15:00:41.142000Z            [A04, A03, A06, A02, A01]   \n",
       "4     2020-01-15T15:00:43.219000Z       [A04, A03, A06, A05, A02, A01]   \n",
       "...                           ...                                  ...   \n",
       "1496  2020-01-15T15:59:53.218000Z  [A04, A03, A06, A01, A02, A05, A09]   \n",
       "1497  2020-01-15T15:59:53.714000Z       [A04, A03, A06, A01, A02, A05]   \n",
       "1498  2020-01-15T15:59:56.054000Z       [A04, A06, A03, A01, A02, A05]   \n",
       "1499  2020-01-15T15:59:56.492000Z  [A04, A03, A06, A05, A02, A01, A10]   \n",
       "1500  2020-01-15T15:59:57.691000Z  [A04, A03, A06, A01, A02, A05, A10]   \n",
       "\n",
       "                                              trace_ids  coincidence_sum  \\\n",
       "0     [7F.A04..BHZ, 7F.A03..BHZ, 7F.A06..BHZ, 7F.A01...              6.0   \n",
       "1     [7F.A04..BHZ, 7F.A03..BHZ, 7F.A02..BHZ, 7F.A06...              4.0   \n",
       "2     [7F.A04..BHZ, 7F.A03..BHZ, 7F.A06..BHZ, 7F.A02...              6.0   \n",
       "3     [7F.A04..BHZ, 7F.A03..BHZ, 7F.A06..BHZ, 7F.A02...              5.0   \n",
       "4     [7F.A04..BHZ, 7F.A03..BHZ, 7F.A06..BHZ, 7F.A05...              6.0   \n",
       "...                                                 ...              ...   \n",
       "1496  [7F.A04..BHZ, 7F.A03..BHZ, 7F.A06..BHZ, 7F.A01...              7.0   \n",
       "1497  [7F.A04..BHZ, 7F.A03..BHZ, 7F.A06..BHZ, 7F.A01...              6.0   \n",
       "1498  [7F.A04..BHZ, 7F.A06..BHZ, 7F.A03..BHZ, 7F.A01...              6.0   \n",
       "1499  [7F.A04..BHZ, 7F.A03..BHZ, 7F.A06..BHZ, 7F.A05...              7.0   \n",
       "1500  [7F.A04..BHZ, 7F.A03..BHZ, 7F.A06..BHZ, 7F.A01...              7.0   \n",
       "\n",
       "     similarity  duration  \n",
       "0            {}     0.131  \n",
       "1            {}     0.106  \n",
       "2            {}     0.131  \n",
       "3            {}     0.108  \n",
       "4            {}     0.136  \n",
       "...         ...       ...  \n",
       "1496         {}     0.167  \n",
       "1497         {}     0.102  \n",
       "1498         {}     0.131  \n",
       "1499         {}     0.184  \n",
       "1500         {}     0.192  \n",
       "\n",
       "[1501 rows x 6 columns]"
      ]
     },
     "execution_count": 12,
     "metadata": {},
     "output_type": "execute_result"
    }
   ],
   "source": [
    "events"
   ]
  },
  {
   "cell_type": "code",
   "execution_count": 37,
   "id": "ac0a3b56",
   "metadata": {},
   "outputs": [],
   "source": [
    "event_id = 456\n",
    "event_meta = events.iloc[event_id]"
   ]
  },
  {
   "cell_type": "code",
   "execution_count": 38,
   "id": "735b0740",
   "metadata": {},
   "outputs": [
    {
     "data": {
      "text/plain": [
       "time                                     2020-01-15T15:21:47.385000Z\n",
       "stations                    [A04, A06, A03, A02, A05, A01, A09, A10]\n",
       "trace_ids          [7F.A04..BHZ, 7F.A06..BHZ, 7F.A03..BHZ, 7F.A02...\n",
       "coincidence_sum                                                  8.0\n",
       "similarity                                                        {}\n",
       "duration                                                       0.204\n",
       "Name: 456, dtype: object"
      ]
     },
     "execution_count": 38,
     "metadata": {},
     "output_type": "execute_result"
    }
   ],
   "source": [
    "event_meta"
   ]
  },
  {
   "cell_type": "code",
   "execution_count": 39,
   "id": "1539a7ff",
   "metadata": {},
   "outputs": [],
   "source": [
    "gw_test = event_processing.get_waveforms(data, event_meta.time)"
   ]
  },
  {
   "cell_type": "code",
   "execution_count": 40,
   "id": "ffeaa907",
   "metadata": {},
   "outputs": [],
   "source": [
    "g_wind = event_processing.get_event_window_raw(data,event_meta.time)"
   ]
  },
  {
   "cell_type": "code",
   "execution_count": 45,
   "id": "edfa3e23",
   "metadata": {},
   "outputs": [
    {
     "data": {
      "text/plain": [
       "14 Trace(s) in Stream:\n",
       "7F.A01..BHZ | 2020-01-15T15:21:47.185000Z - 2020-01-15T15:21:47.885000Z | 1000.0 Hz, 701 samples\n",
       "7F.A02..BHZ | 2020-01-15T15:21:47.185000Z - 2020-01-15T15:21:47.885000Z | 1000.0 Hz, 701 samples\n",
       "7F.A03..BHZ | 2020-01-15T15:21:47.185000Z - 2020-01-15T15:21:47.885000Z | 1000.0 Hz, 701 samples\n",
       "7F.A04..BHZ | 2020-01-15T15:21:47.185000Z - 2020-01-15T15:21:47.885000Z | 1000.0 Hz, 701 samples\n",
       "7F.A05..BHZ | 2020-01-15T15:21:47.185000Z - 2020-01-15T15:21:47.885000Z | 1000.0 Hz, 701 samples\n",
       "7F.A06..BHZ | 2020-01-15T15:21:47.185000Z - 2020-01-15T15:21:47.885000Z | 1000.0 Hz, 701 samples\n",
       "7F.A07..BHZ | 2020-01-15T15:21:47.185000Z - 2020-01-15T15:21:47.885000Z | 1000.0 Hz, 701 samples\n",
       "7F.A08..BHZ | 2020-01-15T15:21:47.185000Z - 2020-01-15T15:21:47.885000Z | 1000.0 Hz, 701 samples\n",
       "7F.A09..BHZ | 2020-01-15T15:21:47.185000Z - 2020-01-15T15:21:47.885000Z | 1000.0 Hz, 701 samples\n",
       "7F.A10..BHZ | 2020-01-15T15:21:47.185000Z - 2020-01-15T15:21:47.885000Z | 1000.0 Hz, 701 samples\n",
       "7F.A11..BHZ | 2020-01-15T15:21:47.185000Z - 2020-01-15T15:21:47.885000Z | 1000.0 Hz, 701 samples\n",
       "7F.A13..BHZ | 2020-01-15T15:21:47.185000Z - 2020-01-15T15:21:47.885000Z | 1000.0 Hz, 701 samples\n",
       "7F.A14..BHZ | 2020-01-15T15:21:47.185000Z - 2020-01-15T15:21:47.885000Z | 1000.0 Hz, 701 samples\n",
       "7F.A19..BHZ | 2020-01-15T15:21:47.185000Z - 2020-01-15T15:21:47.885000Z | 1000.0 Hz, 701 samples"
      ]
     },
     "execution_count": 45,
     "metadata": {},
     "output_type": "execute_result"
    }
   ],
   "source": [
    "g_wind"
   ]
  },
  {
   "cell_type": "code",
   "execution_count": 42,
   "id": "5ff2492e",
   "metadata": {},
   "outputs": [],
   "source": [
    "import numpy as np\n",
    "from copy import copy, deepcopy\n",
    "from obspy.core import Trace\n",
    "\n",
    "\n",
    "def do_fft(signal, delta):\n",
    "    \"\"\"Compute the complex Fourier transform of a signal.\"\"\"\n",
    "    npts = len(signal)\n",
    "    # if npts is even, we make it odd\n",
    "    # so that we do not have a negative frequency in the last point\n",
    "    # (see numpy.fft.rfft doc)\n",
    "    if not npts % 2:\n",
    "        npts -= 1\n",
    "\n",
    "    fft = np.fft.rfft(signal, n=npts) * delta\n",
    "    fftfreq = np.fft.fftfreq(len(signal), d=delta)\n",
    "    fftfreq = fftfreq[0:fft.size]\n",
    "    return fft, fftfreq\n",
    "\n",
    "\n",
    "\n",
    "def do_spectrum(trace):\n",
    "    \"\"\"Compute the spectrum of an ObsPy Trace object.\"\"\"\n",
    "    signal = trace.data\n",
    "    delta = trace.stats.delta\n",
    "    amp, freq = do_fft(signal, delta)\n",
    "    return amp, freq"
   ]
  },
  {
   "cell_type": "code",
   "execution_count": 46,
   "id": "4c9594c6",
   "metadata": {},
   "outputs": [],
   "source": [
    "amp, freq = do_spectrum(g_wind[4])"
   ]
  },
  {
   "cell_type": "code",
   "execution_count": 47,
   "id": "3f859559",
   "metadata": {},
   "outputs": [
    {
     "data": {
      "application/vnd.jupyter.widget-view+json": {
       "model_id": "727ae03de0fb42a9b5016a734cccfac1",
       "version_major": 2,
       "version_minor": 0
      },
      "image/png": "[encoded data removed]",
      "text/html": [
       "\n",
       "            <div style=\"display: inline-block;\">\n",
       "                <div class=\"jupyter-widgets widget-label\" style=\"text-align: center;\">\n",
       "                    Figure 1\n",
       "                </div>\n",
       "                <img src='data:image/png;base64,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' width=640.0/>\n",
       "            </div>\n",
       "        "
      ],
      "text/plain": [
       "Canvas(toolbar=Toolbar(toolitems=[('Home', 'Reset original view', 'home', 'home'), ('Back', 'Back to previous …"
      ]
     },
     "metadata": {},
     "output_type": "display_data"
    }
   ],
   "source": [
    "plt.plot(freq, abs(amp), 'blue')\n",
    "#plt.xlabel('Frequency (Hz)')\n",
    "#plt.ylabel('Amplitude')\n",
    "plt.show()"
   ]
  },
  {
   "cell_type": "code",
   "execution_count": null,
   "id": "765fcf63",
   "metadata": {},
   "outputs": [],
   "source": []
  },
  {
   "cell_type": "code",
   "execution_count": null,
   "id": "e2bdc574",
   "metadata": {},
   "outputs": [],
   "source": [
    "stream_bp1 = data.copy()"
   ]
  },
  {
   "cell_type": "code",
   "execution_count": null,
   "id": "7d3a9110",
   "metadata": {},
   "outputs": [],
   "source": []
  },
  {
   "cell_type": "code",
   "execution_count": null,
   "id": "38087e7f",
   "metadata": {},
   "outputs": [],
   "source": [
    "stream_bp1 = stream_bp1.filter('bandpass', freqmin=60, freqmax=240, corners=1, zerophase=True)"
   ]
  },
  {
   "cell_type": "code",
   "execution_count": null,
   "id": "0c8301ff",
   "metadata": {},
   "outputs": [],
   "source": [
    "fig, ax = plt.subplots(1, figsize=(17, 15), sharex=True, sharey=False)\n",
    "ax.plot(data[0].times('matplotlib'), data[0].data, color='black')\n",
    "ax.plot(data[0].times('matplotlib'), stream_bp1[0].data, color='darkred')\n",
    "ax.xaxis.set_major_formatter(PrecisionDateFormatter(\"%H:%M:%S.{ms}\"))"
   ]
  },
  {
   "cell_type": "code",
   "execution_count": null,
   "id": "4f681c29",
   "metadata": {},
   "outputs": [],
   "source": [
    "data[0].times()"
   ]
  },
  {
   "cell_type": "code",
   "execution_count": null,
   "id": "d392172e",
   "metadata": {},
   "outputs": [],
   "source": [
    "data[0].data"
   ]
  },
  {
   "cell_type": "code",
   "execution_count": null,
   "id": "2ee7559b",
   "metadata": {},
   "outputs": [],
   "source": []
  }
 ],
 "metadata": {
  "kernelspec": {
   "display_name": "Python 3 (ipykernel)",
   "language": "python",
   "name": "python3"
  },
  "language_info": {
   "codemirror_mode": {
    "name": "ipython",
    "version": 3
   },
   "file_extension": ".py",
   "mimetype": "text/x-python",
   "name": "python",
   "nbconvert_exporter": "python",
   "pygments_lexer": "ipython3",
   "version": "3.8.10"
  }
 },
 "nbformat": 4,
 "nbformat_minor": 5
}
