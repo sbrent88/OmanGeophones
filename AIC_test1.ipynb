{
 "cells": [
  {
   "cell_type": "code",
   "execution_count": 1,
   "id": "6a7e9cbb",
   "metadata": {},
   "outputs": [],
   "source": [
    "%matplotlib widget\n",
    "import obspy\n",
    "from obspy.signal.trigger import classic_sta_lta, recursive_sta_lta, aic_simple\n",
    "from obspy.signal.trigger import plot_trigger\n",
    "from obspy.signal.trigger import coincidence_trigger\n",
    "from obspy.signal.cross_correlation import correlation_detector\n",
    "import obspy.signal.trigger as trigger\n",
    "from pprint import pprint\n",
    "import pandas as pd\n",
    "import numpy as np\n",
    "import matplotlib.pyplot as plt\n",
    "import plot_working\n",
    "import event_processing\n",
    "import loading_stream_function\n",
    "import matplotlib.ticker as ticker\n",
    "from datetime import datetime\n",
    "from datetime import timedelta"
   ]
  },
  {
   "cell_type": "code",
   "execution_count": 2,
   "id": "7aaba7c7",
   "metadata": {},
   "outputs": [
    {
     "data": {
      "text/html": [
       "<style>.container { width:100% !important; }</style>"
      ],
      "text/plain": [
       "<IPython.core.display.HTML object>"
      ]
     },
     "metadata": {},
     "output_type": "display_data"
    }
   ],
   "source": [
    "from IPython.display import display, HTML\n",
    "display(HTML(\"<style>.container { width:100% !important; }</style>\"))"
   ]
  },
  {
   "cell_type": "code",
   "execution_count": 3,
   "id": "b27b2333",
   "metadata": {},
   "outputs": [],
   "source": [
    "chan = 'GHZ'\n",
    "#statlist = [ 'A01' ,'A03' , 'A05' , 'A07' , 'A09' , 'A11' , 'A13' , 'A15' , 'A17' , 'A19' ]\n",
    "statlist = [ 'A01' ,'A02' , 'A03' , 'A04' , 'A05' , 'A06' , 'A07' , 'A08' , 'A09', 'A10' , 'A11', 'A13', 'A14', 'A19']#, 'A16', 'A17', 'A18', 'A19' ]\n",
    "#statlist = [ 'B01' ,'B02' , 'B03' , 'B04' , 'B06' , 'B07' , 'B08' , 'B09','B10' , 'B11', 'B12', 'B13' , 'B19' , 'B20']#,'B14','B15','B16','B17','B18','B19', 'B20' ]\n",
    "\n",
    "day = 15\n",
    "hr = 15\n",
    "start_time = obspy.UTCDateTime('2020-1-' + str(day) + 'T00:00:00')+hr*3600\n",
    "end_time = obspy.UTCDateTime('2020-1-' + str(day) + 'T00:00:00')+(hr+1)*3600\n",
    "stream = obspy.read(\"/media/sbrent/Oman3/PASSCAL/Main_deployment/DAYS/\" +statlist[0]+ \"/*..\" + chan +\".2020.0\" +str(day))\n"
   ]
  },
  {
   "cell_type": "code",
   "execution_count": 4,
   "id": "4f8d63ce",
   "metadata": {},
   "outputs": [
    {
     "data": {
      "text/plain": [
       "         network: 7F\n",
       "         station: A01\n",
       "        location: \n",
       "         channel: BHZ\n",
       "       starttime: 2020-01-15T00:00:00.000000Z\n",
       "         endtime: 2020-01-15T23:59:59.999000Z\n",
       "   sampling_rate: 1000.0\n",
       "           delta: 0.001\n",
       "            npts: 86400000\n",
       "           calib: 1.0\n",
       "         _format: MSEED\n",
       "           mseed: AttribDict({'dataquality': 'D', 'number_of_records': 21081, 'encoding': 'STEIM2', 'byteorder': '>', 'record_length': 4096, 'filesize': 86347776})"
      ]
     },
     "execution_count": 4,
     "metadata": {},
     "output_type": "execute_result"
    }
   ],
   "source": [
    "stream[0].stats"
   ]
  },
  {
   "cell_type": "code",
   "execution_count": 5,
   "id": "5547d368",
   "metadata": {},
   "outputs": [],
   "source": [
    "for s in statlist[1:]:\n",
    "    \n",
    "    stream += obspy.read(\"/media/sbrent/Oman3/PASSCAL/Main_deployment/DAYS/\" + s + \"/*..\" + chan + \".2020.0\" + str(day))\n"
   ]
  },
  {
   "cell_type": "code",
   "execution_count": 6,
   "id": "dd7c5460",
   "metadata": {},
   "outputs": [],
   "source": [
    "data = stream.slice(starttime=start_time,endtime=end_time) #look into trim()"
   ]
  },
  {
   "cell_type": "code",
   "execution_count": 7,
   "id": "c5d3642c",
   "metadata": {},
   "outputs": [],
   "source": [
    "stream_filt = data.filter('highpass', corners=4, freq=80, zerophase=False)\n",
    "stream_2 = stream_filt.copy()\n",
    "#events = coincidence_trigger(\"classicstalta\", 4, 0.5, stream_2, 3, sta=0.2, lta=4)\n",
    "#events = coincidence_trigger(\"classicstalta\", 10, 0.5, stream_2, 3, sta=0.08, lta=1)\n",
    "#events = coincidence_trigger(\"classicstalta\", 5, 0.5, stream_2, 3, sta=0.08, lta=1)\n",
    "#events = coincidence_trigger(\"classicstalta\", 5, 0.5, stream_2, 3, sta=0.08, lta=0.5) #best as of 08/24/2022 at 12:41\n",
    "#events = coincidence_trigger(\"classicstalta\", 5, 0.4, stream_2, 3, sta=0.08, lta=0.5)  # also good 08/24/2022 at 12:49\n",
    "#events = coincidence_trigger(\"classicstalta\", 5, 0.6, stream_2, 3, sta=0.08, lta=0.5) # also good 08/24/2022 at 12:52\n",
    "#events = coincidence_trigger(\"classicstalta\", 5, 0.7, stream_2, 3, sta=0.08, lta=0.5) # also good 08/24/2022 at 12:57\n",
    "#events = coincidence_trigger(\"classicstalta\", 5, 0.8, stream_2, 3, sta=0.08, lta=0.5)  # also good 08/24/2022 at 13:00\n",
    "\n",
    "#events = coincidence_trigger(\"classicstalta\", 5, 0.8, stream_2, 3, sta=0.06, lta=0.5) # very good\n",
    "#events = coincidence_trigger(\"classicstalta\", 5, 0.8, stream_2, 3, sta=0.04, lta=0.3) # even better\n",
    "events = coincidence_trigger(\"classicstalta\", 5, 0.8, stream_2, 3, sta=0.02, lta=0.2)\n",
    "\n",
    "\n",
    "\n",
    "\n",
    "#events = coincidence_trigger(\"classicstalta\", 4, 0.5, stream_2, 3, sta=0.08, lta=0.5)\n",
    "events = pd.DataFrame(events)"
   ]
  },
  {
   "cell_type": "code",
   "execution_count": null,
   "id": "61cb6eca",
   "metadata": {},
   "outputs": [],
   "source": [
    "events"
   ]
  },
  {
   "cell_type": "code",
   "execution_count": 8,
   "id": "fe315e92",
   "metadata": {},
   "outputs": [],
   "source": [
    "event_id = 147\n",
    "event_meta = events.iloc[event_id]"
   ]
  },
  {
   "cell_type": "code",
   "execution_count": 9,
   "id": "936a1d36",
   "metadata": {},
   "outputs": [],
   "source": [
    "gw_test = event_processing.get_waveforms_window(data, event_meta.time)"
   ]
  },
  {
   "cell_type": "code",
   "execution_count": 10,
   "id": "0dc0e4dd",
   "metadata": {},
   "outputs": [],
   "source": [
    "#aic_t, aics = event_processing.aic_pick(gw_test)\n",
    "aic_t1, aics1 = event_processing.aic_pick_t1(gw_test)"
   ]
  },
  {
   "cell_type": "code",
   "execution_count": 14,
   "id": "8d9acc6e",
   "metadata": {},
   "outputs": [
    {
     "data": {
      "text/plain": [
       "901"
      ]
     },
     "execution_count": 14,
     "metadata": {},
     "output_type": "execute_result"
    }
   ],
   "source": [
    "len(aics1[0])"
   ]
  },
  {
   "cell_type": "code",
   "execution_count": null,
   "id": "2e7d0117",
   "metadata": {},
   "outputs": [],
   "source": [
    "aic_t, aics = event_processing.aic_pick(gw_test)"
   ]
  },
  {
   "cell_type": "code",
   "execution_count": null,
   "id": "0660623c",
   "metadata": {},
   "outputs": [],
   "source": [
    "gw_test"
   ]
  },
  {
   "cell_type": "code",
   "execution_count": null,
   "id": "9407625a",
   "metadata": {},
   "outputs": [],
   "source": [
    "event_processing.plot_waveforms_with_aic(gw_test,aics,aic_t)"
   ]
  },
  {
   "cell_type": "code",
   "execution_count": null,
   "id": "3e472c5a",
   "metadata": {},
   "outputs": [],
   "source": [
    "event_id = 147\n",
    "event_meta = events.iloc[event_id]\n",
    "start_window_edge = -0.1\n",
    "end_window_edge = 0.25\n",
    "starttime = event_meta['time'] + start_window_edge\n",
    "endtime = event_meta['time'] + end_window_edge"
   ]
  },
  {
   "cell_type": "code",
   "execution_count": null,
   "id": "879c1889",
   "metadata": {},
   "outputs": [],
   "source": [
    "event = data.slice(starttime=starttime, endtime=endtime).copy()"
   ]
  },
  {
   "cell_type": "code",
   "execution_count": null,
   "id": "6dcd0028",
   "metadata": {},
   "outputs": [],
   "source": []
  },
  {
   "cell_type": "code",
   "execution_count": null,
   "id": "0cb2864f",
   "metadata": {},
   "outputs": [],
   "source": [
    "event_times = [t.times() for t in event]\n",
    "event_data = [d.data for d in event]"
   ]
  },
  {
   "cell_type": "code",
   "execution_count": null,
   "id": "dfd6fbe8",
   "metadata": {},
   "outputs": [],
   "source": [
    "aic_score = [trigger.aic_simple(tr.data) for tr in event]"
   ]
  },
  {
   "cell_type": "code",
   "execution_count": null,
   "id": "9b33db66",
   "metadata": {},
   "outputs": [],
   "source": [
    "diffs = [np.diff(aic, n=1) for aic in aic_score]\n",
    "maxes = [np.argmax(diff) for diff in diffs]\n",
    "aic_t = [event[n].times('matplotlib')[i] for n, i in enumerate(maxes)]"
   ]
  },
  {
   "cell_type": "code",
   "execution_count": null,
   "id": "0e517457",
   "metadata": {},
   "outputs": [],
   "source": [
    "#print(diffs)\n",
    "print(maxes)\n",
    "print(aic_t)"
   ]
  },
  {
   "cell_type": "code",
   "execution_count": null,
   "id": "41a13427",
   "metadata": {},
   "outputs": [],
   "source": [
    "fig, ax = plt.subplots(14, figsize=(10, 10), sharex=True)\n",
    "\n",
    "ax = ax.flatten()\n",
    "\n",
    "for n in np.arange(0, len(event), 1):\n",
    "    ax[n].plot(event_times[n], event_data[n], color='black')\n",
    "    \n",
    "    event.taper(type='hann', max_percentage=0.5)\n",
    "    ax[n].plot(event_times[n], event_data[n], color='black')\n",
    "    \n",
    "    n_zeros = 100\n",
    "    aic_score = trigger.aic_simple(event_data[n])\n",
    "    ax[n].vlines(event_times[n][aic_score.argmin()], ymin=10000, ymax=-10000, color='red')\n",
    "    \n",
    "    ax2 = ax[n].twinx()\n",
    "    ax2.plot(event_times[n], aic_score)\n",
    "    \n",
    "fig.tight_layout()"
   ]
  },
  {
   "cell_type": "code",
   "execution_count": null,
   "id": "477de745",
   "metadata": {},
   "outputs": [],
   "source": [
    "fig, axes = plot_working.plot_wave(event, color='black')\n",
    "for n, ax in enumerate(axes):\n",
    "    #aic = aic_score[n]\n",
    "    #print(aic)\n",
    "    ax2 = ax.twinx()\n",
    "    t = event[n].times('matplotlib')\n",
    "    #aic = aic_score[n]\n",
    "    ax2.plot(t, aic_score[n], color='red')\n",
    "    ax.plot((aic_t[n], aic_t[n]), (-2000, 2000), color='dodgerblue')\n"
   ]
  },
  {
   "cell_type": "code",
   "execution_count": null,
   "id": "1de941d0",
   "metadata": {},
   "outputs": [],
   "source": [
    "axes_id = dict(np.array([['7F.A01..BHZ' ,'7F.A02..BHZ' , '7F.A03..BHZ' , '7F.A04..BHZ' , '7F.A05..BHZ' , '7F.A06..BHZ' , '7F.A07..BHZ' , '7F.A08..BHZ' , '7F.A09..BHZ'  , '7F.A10..BHZ' , '7F.A11..BHZ', '7F.A13..BHZ', '7F.A14..BHZ', '7F.A19..BHZ'],[0,1,2,3,4,5,6,7,8,9,10,11,12,13], ]).transpose())\n",
    "\n",
    "fig, ax = plt.subplots(len(event), figsize=(len(event), 15), sharex=True, sharey=True)\n",
    "\n",
    "for i in np.arange(0, len(event), 1):\n",
    "\n",
    "    ax[i].plot(event_times[i], event_data[i], color='black')\n",
    "    \n",
    "    event.taper(type='hann', max_percentage=0.5)\n",
    "    ax[i].plot(event_times[i], event_data[i], color='blue')\n",
    "    \n",
    "    aic_score = trigger.aic_simple(event_data[i])\n",
    "    #diffs = np.diff(aic_score[i])\n",
    "    ax[i].vlines(event_times[i][aic_score.argmin()], ymin=10000, ymax=-10000, color='red')\n",
    "    \n",
    "    ax[i].text(1, 10000, list(axes_id.keys())[i])\n",
    "\n",
    "#event.taper(type='hann', max_percentage=0.5)\n",
    "#ax.plot(event.times(), event.data, color='black')\n",
    "\n",
    "#aic = trigger.aic_simple(event.data)\n",
    "#ax.vlines(event.times()[aic.argmin()], ymin=0.5, ymax=-0.5, color='red')"
   ]
  },
  {
   "cell_type": "code",
   "execution_count": null,
   "id": "0cf147f5",
   "metadata": {},
   "outputs": [],
   "source": [
    "aic = trigger.aic_simple(event_data[12])\n",
    "print(len(aic))\n",
    "#print(aic)"
   ]
  },
  {
   "cell_type": "code",
   "execution_count": null,
   "id": "f57b648d",
   "metadata": {},
   "outputs": [],
   "source": [
    "aic_score[1]\n",
    "print(len(aic_score))"
   ]
  },
  {
   "cell_type": "code",
   "execution_count": null,
   "id": "e84b889d",
   "metadata": {},
   "outputs": [],
   "source": [
    "diffs = np.diff(aic, n=1)\n",
    "print(len(diffs))"
   ]
  },
  {
   "cell_type": "code",
   "execution_count": null,
   "id": "08f5e17f",
   "metadata": {},
   "outputs": [],
   "source": [
    "event_times[12][aic.argmin()]"
   ]
  },
  {
   "cell_type": "code",
   "execution_count": null,
   "id": "de53290d",
   "metadata": {},
   "outputs": [],
   "source": [
    "aic[2].argmin()"
   ]
  },
  {
   "cell_type": "code",
   "execution_count": null,
   "id": "f07eca77",
   "metadata": {},
   "outputs": [],
   "source": [
    "len(aic_t_idx)"
   ]
  },
  {
   "cell_type": "code",
   "execution_count": null,
   "id": "eb1fa09b",
   "metadata": {},
   "outputs": [],
   "source": [
    "aic_t, aics = event_processing.aic_pick_t1(gw_test)"
   ]
  },
  {
   "cell_type": "code",
   "execution_count": null,
   "id": "ebf3b49a",
   "metadata": {},
   "outputs": [],
   "source": []
  }
 ],
 "metadata": {
  "kernelspec": {
   "display_name": "Python 3 (ipykernel)",
   "language": "python",
   "name": "python3"
  },
  "language_info": {
   "codemirror_mode": {
    "name": "ipython",
    "version": 3
   },
   "file_extension": ".py",
   "mimetype": "text/x-python",
   "name": "python",
   "nbconvert_exporter": "python",
   "pygments_lexer": "ipython3",
   "version": "3.8.10"
  }
 },
 "nbformat": 4,
 "nbformat_minor": 5
}
