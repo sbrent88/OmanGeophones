{
 "cells": [
  {
   "cell_type": "code",
   "execution_count": 1,
   "id": "c66bea03",
   "metadata": {},
   "outputs": [
    {
     "data": {
      "text/html": [
       "<style>.container { width:100% !important; }</style>"
      ],
      "text/plain": [
       "<IPython.core.display.HTML object>"
      ]
     },
     "metadata": {},
     "output_type": "display_data"
    }
   ],
   "source": [
    "from IPython.display import display, HTML\n",
    "display(HTML(\"<style>.container { width:100% !important; }</style>\"))"
   ]
  },
  {
   "cell_type": "code",
   "execution_count": 2,
   "id": "99d44b93",
   "metadata": {},
   "outputs": [],
   "source": [
    "%matplotlib widget\n",
    "import obspy\n",
    "from obspy.signal.trigger import classic_sta_lta, recursive_sta_lta, aic_simple\n",
    "from obspy.signal.trigger import plot_trigger\n",
    "from obspy.signal.trigger import coincidence_trigger\n",
    "from obspy.signal.cross_correlation import correlation_detector\n",
    "from obspy.signal import PPSD\n",
    "from obspy import read_inventory\n",
    "from obspy.realtime.signal import kurtosis\n",
    "\n",
    "import spectrum\n",
    "\n",
    "\n",
    "from hydrophone_data_processing import load, useful_variables, plotting, signal_processing\n",
    "import obspy.signal.trigger as trigger\n",
    "from pprint import pprint\n",
    "import pandas as pd\n",
    "import numpy as np\n",
    "import matplotlib.pyplot as plt\n",
    "\n",
    "import plot_working\n",
    "import event_processing\n",
    "import loading_stream_function\n",
    "\n",
    "import matplotlib.ticker as ticker\n",
    "from datetime import datetime\n",
    "from datetime import timedelta"
   ]
  },
  {
   "cell_type": "code",
   "execution_count": 3,
   "id": "6ac4a637",
   "metadata": {},
   "outputs": [],
   "source": [
    "chan = 'GHZ'\n",
    "#statlist = [ 'A01' ,'A03' , 'A05' , 'A07' , 'A09' , 'A11' , 'A13' , 'A15' , 'A17' , 'A19' ]\n",
    "statlist = [ 'A01' ,'A02' , 'A03' , 'A04' , 'A05' , 'A06' , 'A07' , 'A08' , 'A09', 'A10' , 'A11', 'A13', 'A14', 'A19']#, 'A16', 'A17', 'A18', 'A19' ]\n",
    "#statlist = [ 'B01' ,'B02' , 'B03' , 'B04' , 'B06' , 'B07' , 'B08' , 'B09','B10' , 'B11', 'B12', 'B13' , 'B19' , 'B20']#,'B14','B15','B16','B17','B18','B19', 'B20' ]\n",
    "\n",
    "day = 15\n",
    "hr = 15\n",
    "start_time = obspy.UTCDateTime('2020-1-' + str(day) + 'T00:00:00')+hr*3600\n",
    "end_time = obspy.UTCDateTime('2020-1-' + str(day) + 'T00:00:00')+(hr+1)*3600\n",
    "stream = obspy.read(\"/media/sbrent/Oman3/PASSCAL/Main_deployment/DAYS/\" +statlist[0]+ \"/*..\" + chan +\".2020.0\" +str(day))\n"
   ]
  },
  {
   "cell_type": "code",
   "execution_count": 4,
   "id": "c9bd3b8c",
   "metadata": {},
   "outputs": [],
   "source": [
    "for s in statlist[1:]:\n",
    "    \n",
    "    stream += obspy.read(\"/media/sbrent/Oman3/PASSCAL/Main_deployment/DAYS/\" + s + \"/*..\" + chan + \".2020.0\" + str(day))\n"
   ]
  },
  {
   "cell_type": "code",
   "execution_count": 5,
   "id": "552a185c",
   "metadata": {},
   "outputs": [
    {
     "name": "stdout",
     "output_type": "stream",
     "text": [
      "2020-01-15T15:00:00.000000Z 2020-01-15T16:00:00.000000Z\n"
     ]
    }
   ],
   "source": [
    "data = stream.slice(starttime=start_time,endtime=end_time) #look into trim()\n",
    "#print(data)\n",
    "print(start_time, end_time)"
   ]
  },
  {
   "cell_type": "code",
   "execution_count": 6,
   "id": "30f6bd87",
   "metadata": {},
   "outputs": [],
   "source": [
    "#data = data.decimate(2)\n",
    "data1 = data.copy()\n",
    "#stream_filt = data1.filter('highpass', corners=4, freq=80, zerophase=False)"
   ]
  },
  {
   "cell_type": "code",
   "execution_count": 7,
   "id": "ed9e5fbe",
   "metadata": {},
   "outputs": [],
   "source": [
    "stream_filt = data.filter('highpass', corners=4, freq=80, zerophase=False)\n",
    "stream_2 = stream_filt.copy()\n",
    "\n",
    "events = coincidence_trigger(\"classicstalta\", 5, 0.8, stream_2, 3, sta=0.02, lta=0.2)\n",
    "\n",
    "\n",
    "\n",
    "\n",
    "#events = coincidence_trigger(\"classicstalta\", 4, 0.5, stream_2, 3, sta=0.08, lta=0.5)\n",
    "events = pd.DataFrame(events)"
   ]
  },
  {
   "cell_type": "code",
   "execution_count": 8,
   "id": "3692d3ac",
   "metadata": {},
   "outputs": [],
   "source": [
    "event_id = 510\n",
    "event_meta = events.iloc[event_id]\n",
    "time = events.time[510]-1"
   ]
  },
  {
   "cell_type": "code",
   "execution_count": 9,
   "id": "529be18d",
   "metadata": {},
   "outputs": [],
   "source": [
    "g_wind1 = event_processing.get_event_window_raw(data1,time)"
   ]
  },
  {
   "cell_type": "code",
   "execution_count": 43,
   "id": "2ac89938",
   "metadata": {},
   "outputs": [],
   "source": [
    "def zero_pad(data, N, k):\n",
    "    data_length = N*k\n",
    "    extra_zeros = np.zeros(int(data_length - data.shape[0]))\n",
    "    data = np.append(data, extra_zeros)\n",
    "    return data\n",
    "\n",
    "\n",
    "\n",
    "def get_power_freq(N, NW, k, data):\n",
    "    data = zero_pad(data, N, k)\n",
    "    data = np.reshape(data, (k, N))\n",
    "    w, eigens = spectrum.dpss(N, NW, k)\n",
    "    sk, weights, eigenvalues = spectrum.pmtm(data, e=eigens, v=w, method='eigen')\n",
    "    power = 10*np.log10(np.abs(np.mean(sk * sk.conj(), axis=0)))\n",
    "    Tlength = 1000/(data.shape[0])\n",
    "    print(Tlength)\n",
    "    freq = np.ones(power.shape) * Tlength\n",
    "    freq = freq.cumsum()\n",
    "    return freq, power"
   ]
  },
  {
   "cell_type": "code",
   "execution_count": 33,
   "id": "e5a8d42a",
   "metadata": {},
   "outputs": [],
   "source": [
    "data=g_wind1[0].data.copy()"
   ]
  },
  {
   "cell_type": "code",
   "execution_count": 44,
   "id": "3bd04264",
   "metadata": {},
   "outputs": [
    {
     "name": "stdout",
     "output_type": "stream",
     "text": [
      "250.0\n"
     ]
    },
    {
     "data": {
      "text/plain": [
       "(0.0, 500.0)"
      ]
     },
     "execution_count": 44,
     "metadata": {},
     "output_type": "execute_result"
    },
    {
     "data": {
      "application/vnd.jupyter.widget-view+json": {
       "model_id": "69b4bcef8bdf41bdb319cd3f60ba93b1",
       "version_major": 2,
       "version_minor": 0
      },
      "image/png": "[encoded data removed]",
      "text/html": [
       "\n",
       "            <div style=\"display: inline-block;\">\n",
       "                <div class=\"jupyter-widgets widget-label\" style=\"text-align: center;\">\n",
       "                    Figure\n",
       "                </div>\n",
       "                <img src='data:image/png;base64,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' width=640.0/>\n",
       "            </div>\n",
       "        "
      ],
      "text/plain": [
       "Canvas(toolbar=Toolbar(toolitems=[('Home', 'Reset original view', 'home', 'home'), ('Back', 'Back to previous …"
      ]
     },
     "metadata": {},
     "output_type": "display_data"
    }
   ],
   "source": [
    "freq, power = get_power_freq(N=len(g_wind1[0].data), NW=3/2, k=4, data=g_wind1[0].data.copy())\n",
    "\n",
    "fig, ax = plt.subplots()\n",
    "ax.plot(freq, power)\n",
    "ax.set_xlim(0, 500)"
   ]
  },
  {
   "cell_type": "code",
   "execution_count": 20,
   "id": "a439ce45",
   "metadata": {},
   "outputs": [
    {
     "data": {
      "text/plain": [
       "0.001"
      ]
     },
     "execution_count": 20,
     "metadata": {},
     "output_type": "execute_result"
    }
   ],
   "source": [
    "g_wind1[0].stats.delta"
   ]
  },
  {
   "cell_type": "code",
   "execution_count": null,
   "id": "8d81e831",
   "metadata": {},
   "outputs": [],
   "source": []
  }
 ],
 "metadata": {
  "kernelspec": {
   "display_name": "Python 3 (ipykernel)",
   "language": "python",
   "name": "python3"
  },
  "language_info": {
   "codemirror_mode": {
    "name": "ipython",
    "version": 3
   },
   "file_extension": ".py",
   "mimetype": "text/x-python",
   "name": "python",
   "nbconvert_exporter": "python",
   "pygments_lexer": "ipython3",
   "version": "3.8.10"
  }
 },
 "nbformat": 4,
 "nbformat_minor": 5
}
