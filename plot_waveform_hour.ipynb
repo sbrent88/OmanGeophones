{
 "cells": [
  {
   "cell_type": "code",
   "execution_count": 1,
   "metadata": {},
   "outputs": [],
   "source": [
    "%matplotlib widget\n",
    "import matplotlib.pyplot as plt\n",
    "import numpy as np\n",
    "import obspy\n",
    "import pandas as pd\n",
    "#from hydrophone_data_processing import plotting\n",
    "import plot\n",
    "import loading_stream_function\n",
    "import matplotlib.dates as mdates\n",
    "import matplotlib.ticker as ticker"
   ]
  },
  {
   "cell_type": "code",
   "execution_count": 2,
   "metadata": {},
   "outputs": [
    {
     "data": {
      "text/html": [
       "<style>.container { width:100% !important; }</style>"
      ],
      "text/plain": [
       "<IPython.core.display.HTML object>"
      ]
     },
     "metadata": {},
     "output_type": "display_data"
    }
   ],
   "source": [
    "from IPython.display import display, HTML\n",
    "display(HTML(\"<style>.container { width:100% !important; }</style>\"))"
   ]
  },
  {
   "cell_type": "code",
   "execution_count": 3,
   "metadata": {},
   "outputs": [],
   "source": [
    "pd.set_option('display.max_rows', 500)\n",
    "pd.set_option('display.max_columns', 500)\n",
    "pd.set_option('display.width', 1000)"
   ]
  },
  {
   "cell_type": "code",
   "execution_count": 4,
   "metadata": {},
   "outputs": [],
   "source": [
    "inv = obspy.read_inventory(\"7F.OmanDP.PIC.2020127.xml\",format=\"STATIONXML\")"
   ]
  },
  {
   "cell_type": "code",
   "execution_count": 5,
   "metadata": {},
   "outputs": [],
   "source": [
    "#chan = 'GHZ'\n",
    "statlist = [ 'A01','A04','A08' ,'A10','A17','A15','A18','A19']\n",
    "#statlist = ['B01','B04','B07','B10','B13','B18', 'B15' ,'B20','B19' ]\n",
    "\n",
    "#statlist = [ 'A19' ,'A04' , 'A07' , 'A17' , 'B11' , 'B15' , 'B04' ]\n",
    "#statlist = [ 'A01' ,'A03' , 'A05' , 'A07' , 'A09' , 'A11' , 'A13' , 'A15' , 'A17' , 'A19' ]\n",
    "#day_list = ['10','11','12', '13', '14', '15', '16', '17', '18', '19', '20','21', '22', '23', '24', '25', '26', '27', '28', '29','30', '31','32']\n",
    "day = 10\t\n",
    "hr = 20"
   ]
  },
  {
   "cell_type": "code",
   "execution_count": 6,
   "metadata": {},
   "outputs": [],
   "source": [
    "start_time = obspy.UTCDateTime('2020-1-' + str(day) + 'T00:00:00')\n",
    "#print(start_time)"
   ]
  },
  {
   "cell_type": "code",
   "execution_count": 7,
   "metadata": {},
   "outputs": [
    {
     "name": "stdout",
     "output_type": "stream",
     "text": [
      "13 Trace(s) in Stream:\n",
      "7F.A01..BHZ | 2020-01-21T00:00:00.000000Z - 2020-01-21T23:59:59.999000Z | 1000.0 Hz, 86400000 samples\n",
      "7F.A04..BHZ | 2020-01-21T00:00:00.000000Z - 2020-01-21T23:59:59.999000Z | 1000.0 Hz, 86400000 samples\n",
      "7F.A08..BHZ | 2020-01-21T00:00:00.000000Z - 2020-01-21T23:59:59.999000Z | 1000.0 Hz, 86400000 samples\n",
      "7F.A10..BHZ | 2020-01-21T00:00:00.000000Z - 2020-01-21T23:59:59.999000Z | 1000.0 Hz, 86400000 samples\n",
      "7F.A17..BHZ | 2020-01-21T00:00:00.000000Z - 2020-01-21T23:59:59.999000Z | 1000.0 Hz, 86400000 samples\n",
      "7F.A15..BHZ | 2020-01-21T00:00:00.000000Z - 2020-01-21T17:08:43.660000Z | 1000.0 Hz, 61723661 samples\n",
      "7F.A15..BHZ | 2020-01-21T17:09:20.000000Z - 2020-01-21T17:09:27.403000Z | 1000.0 Hz, 7404 samples\n",
      "7F.A15..BHZ | 2020-01-21T17:09:26.799000Z - 2020-01-21T17:09:27.776000Z | 1000.0 Hz, 978 samples\n",
      "7F.A15..BHZ | 2020-01-21T17:09:27.776000Z - 2020-01-21T17:09:30.456000Z | 1000.0 Hz, 2681 samples\n",
      "7F.A15..BHZ | 2020-01-21T17:09:31.457000Z - 2020-01-21T17:09:48.393000Z | 1000.0 Hz, 16937 samples\n",
      "7F.A15..BHZ | 2020-01-21T17:09:49.000000Z - 2020-01-21T23:59:59.999000Z | 1000.0 Hz, 24611000 samples\n",
      "7F.A18..BHZ | 2020-01-21T00:00:00.000000Z - 2020-01-21T23:59:59.999000Z | 1000.0 Hz, 86400000 samples\n",
      "7F.A19..BHZ | 2020-01-21T00:00:00.000000Z - 2020-01-21T23:59:59.999000Z | 1000.0 Hz, 86400000 samples\n"
     ]
    }
   ],
   "source": [
    "stream = loading_stream_function.import_data_one_day(statlist,day)\n",
    "print(stream)"
   ]
  },
  {
   "cell_type": "code",
   "execution_count": 8,
   "metadata": {},
   "outputs": [
    {
     "name": "stdout",
     "output_type": "stream",
     "text": [
      "0 Trace(s) in Stream:\n",
      "\n"
     ]
    }
   ],
   "source": [
    "stream_snapshot = stream.slice(starttime=start_time+hr*3600,endtime=start_time+(hr+1)*3600)\n",
    "print(stream_snapshot)"
   ]
  },
  {
   "cell_type": "code",
   "execution_count": 9,
   "metadata": {},
   "outputs": [
    {
     "ename": "IndexError",
     "evalue": "Empty stream object",
     "output_type": "error",
     "traceback": [
      "\u001b[0;31m---------------------------------------------------------------------------\u001b[0m",
      "\u001b[0;31mIndexError\u001b[0m                                Traceback (most recent call last)",
      "Input \u001b[0;32mIn [9]\u001b[0m, in \u001b[0;36m<cell line: 1>\u001b[0;34m()\u001b[0m\n\u001b[0;32m----> 1\u001b[0m x \u001b[38;5;241m=\u001b[39m \u001b[43mstream_snapshot\u001b[49m\u001b[43m[\u001b[49m\u001b[38;5;241;43m2\u001b[39;49m\u001b[43m:\u001b[49m\u001b[43m]\u001b[49m\u001b[38;5;241;43m.\u001b[39;49m\u001b[43mplot\u001b[49m\u001b[43m(\u001b[49m\u001b[43m)\u001b[49m\n",
      "File \u001b[0;32m~/research/Oman/venv/lib/python3.8/site-packages/obspy/core/stream.py:1154\u001b[0m, in \u001b[0;36mStream.plot\u001b[0;34m(self, *args, **kwargs)\u001b[0m\n\u001b[1;32m    873\u001b[0m \u001b[38;5;124;03m\"\"\"\u001b[39;00m\n\u001b[1;32m    874\u001b[0m \u001b[38;5;124;03mCreate a waveform plot of the current ObsPy Stream object.\u001b[39;00m\n\u001b[1;32m    875\u001b[0m \n\u001b[0;32m   (...)\u001b[0m\n\u001b[1;32m   1151\u001b[0m \u001b[38;5;124;03m    st.plot()\u001b[39;00m\n\u001b[1;32m   1152\u001b[0m \u001b[38;5;124;03m\"\"\"\u001b[39;00m\n\u001b[1;32m   1153\u001b[0m \u001b[38;5;28;01mfrom\u001b[39;00m \u001b[38;5;21;01mobspy\u001b[39;00m\u001b[38;5;21;01m.\u001b[39;00m\u001b[38;5;21;01mimaging\u001b[39;00m\u001b[38;5;21;01m.\u001b[39;00m\u001b[38;5;21;01mwaveform\u001b[39;00m \u001b[38;5;28;01mimport\u001b[39;00m WaveformPlotting\n\u001b[0;32m-> 1154\u001b[0m waveform \u001b[38;5;241m=\u001b[39m \u001b[43mWaveformPlotting\u001b[49m\u001b[43m(\u001b[49m\u001b[43mstream\u001b[49m\u001b[38;5;241;43m=\u001b[39;49m\u001b[38;5;28;43mself\u001b[39;49m\u001b[43m,\u001b[49m\u001b[43m \u001b[49m\u001b[38;5;241;43m*\u001b[39;49m\u001b[43margs\u001b[49m\u001b[43m,\u001b[49m\u001b[43m \u001b[49m\u001b[38;5;241;43m*\u001b[39;49m\u001b[38;5;241;43m*\u001b[39;49m\u001b[43mkwargs\u001b[49m\u001b[43m)\u001b[49m\n\u001b[1;32m   1155\u001b[0m \u001b[38;5;28;01mreturn\u001b[39;00m waveform\u001b[38;5;241m.\u001b[39mplot_waveform(\u001b[38;5;241m*\u001b[39margs, \u001b[38;5;241m*\u001b[39m\u001b[38;5;241m*\u001b[39mkwargs)\n",
      "File \u001b[0;32m~/research/Oman/venv/lib/python3.8/site-packages/obspy/imaging/waveform.py:78\u001b[0m, in \u001b[0;36mWaveformPlotting.__init__\u001b[0;34m(self, **kwargs)\u001b[0m\n\u001b[1;32m     76\u001b[0m \u001b[38;5;28;01mif\u001b[39;00m \u001b[38;5;28mlen\u001b[39m(\u001b[38;5;28mself\u001b[39m\u001b[38;5;241m.\u001b[39mstream) \u001b[38;5;241m<\u001b[39m \u001b[38;5;241m1\u001b[39m:\n\u001b[1;32m     77\u001b[0m     msg \u001b[38;5;241m=\u001b[39m \u001b[38;5;124m\"\u001b[39m\u001b[38;5;124mEmpty stream object\u001b[39m\u001b[38;5;124m\"\u001b[39m\n\u001b[0;32m---> 78\u001b[0m     \u001b[38;5;28;01mraise\u001b[39;00m \u001b[38;5;167;01mIndexError\u001b[39;00m(msg)\n\u001b[1;32m     79\u001b[0m \u001b[38;5;28mself\u001b[39m\u001b[38;5;241m.\u001b[39mstream \u001b[38;5;241m=\u001b[39m \u001b[38;5;28mself\u001b[39m\u001b[38;5;241m.\u001b[39mstream\u001b[38;5;241m.\u001b[39mcopy()\n\u001b[1;32m     80\u001b[0m \u001b[38;5;66;03m# Type of the plot.\u001b[39;00m\n",
      "\u001b[0;31mIndexError\u001b[0m: Empty stream object"
     ]
    }
   ],
   "source": [
    "x = stream_snapshot[2:].plot()"
   ]
  },
  {
   "cell_type": "code",
   "execution_count": null,
   "metadata": {},
   "outputs": [],
   "source": []
  }
 ],
 "metadata": {
  "kernelspec": {
   "display_name": "Python 3 (ipykernel)",
   "language": "python",
   "name": "python3"
  },
  "language_info": {
   "codemirror_mode": {
    "name": "ipython",
    "version": 3
   },
   "file_extension": ".py",
   "mimetype": "text/x-python",
   "name": "python",
   "nbconvert_exporter": "python",
   "pygments_lexer": "ipython3",
   "version": "3.8.10"
  }
 },
 "nbformat": 4,
 "nbformat_minor": 2
}
