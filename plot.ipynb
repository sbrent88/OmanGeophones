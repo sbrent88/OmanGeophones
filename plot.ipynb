{
 "cells": [
  {
   "cell_type": "code",
   "execution_count": 1,
   "metadata": {},
   "outputs": [],
   "source": [
    "import os\n",
    "import sys\n",
    "sys.path.append(os.getcwd())\n",
    "\n",
    "\n",
    "import matplotlib.pyplot as plt\n",
    "import matplotlib.ticker as ticker\n",
    "import glob\n",
    "import obspy"
   ]
  },
  {
   "cell_type": "code",
   "execution_count": 2,
   "metadata": {},
   "outputs": [],
   "source": [
    "def plot_wave(obspydata, **kwargs):\n",
    "    data_len = len(obspydata)\n",
    "    fig, ax = plt.subplots(data_len, figsize=(10, 10), sharex=True, sharey=True, squeeze = True)\n",
    "    \n",
    "    \n",
    "    if type(obspydata) == obspy.core.trace.Trace:\n",
    "        obspydata = [obspydata]\n",
    "    for n, tr in enumerate(obspydata):\n",
    "        #mean = np.array(tr.data) - np.mean(np.array(tr.data))\n",
    "        ax[n].plot(tr.times('matplotlib'), np.array(tr.data) - np.mean(np.array(tr.data)), **kwargs)\n",
    "        #ax[n].set_ylabel('Pressure (Pa)', fontsize=15)\n",
    "        \n",
    "    ax[n].xaxis.set_major_formatter(\"%H:%M:%S\")\n",
    "\n",
    "    \n",
    "    fig.tight_layout(pad=0)\n",
    "    return fig, ax"
   ]
  },
  {
   "cell_type": "code",
   "execution_count": 8,
   "metadata": {},
   "outputs": [
    {
     "name": "stdout",
     "output_type": "stream",
     "text": [
      "WOOHOO!\n"
     ]
    }
   ],
   "source": [
    "if __name__=='__main__':\n",
    "    print('WOOHOO!')"
   ]
  },
  {
   "cell_type": "code",
   "execution_count": null,
   "metadata": {},
   "outputs": [],
   "source": []
  }
 ],
 "metadata": {
  "kernelspec": {
   "display_name": "Python 3 (ipykernel)",
   "language": "python",
   "name": "python3"
  },
  "language_info": {
   "codemirror_mode": {
    "name": "ipython",
    "version": 3
   },
   "file_extension": ".py",
   "mimetype": "text/x-python",
   "name": "python",
   "nbconvert_exporter": "python",
   "pygments_lexer": "ipython3",
   "version": "3.8.10"
  }
 },
 "nbformat": 4,
 "nbformat_minor": 2
}
