{
 "cells": [
  {
   "cell_type": "code",
   "execution_count": 7,
   "id": "c9a7cb79",
   "metadata": {},
   "outputs": [],
   "source": [
    "%matplotlib widget\n",
    "import obspy\n",
    "from obspy.signal.trigger import classic_sta_lta, recursive_sta_lta, aic_simple\n",
    "from obspy.signal.trigger import plot_trigger\n",
    "from obspy.signal.trigger import coincidence_trigger\n",
    "from obspy.signal.trigger import ar_pick\n",
    "from obspy.signal.cross_correlation import correlation_detector\n",
    "from obspy.realtime.signal import kurtosis\n",
    "from obspy.signal import PPSD\n",
    "from pprint import pprint\n",
    "import pandas as pd\n",
    "import numpy as np\n",
    "import matplotlib.pyplot as plt\n",
    "import plot_working\n",
    "import event_processing\n",
    "import matplotlib.ticker as ticker\n",
    "from datetime import datetime\n",
    "from datetime import timedelta"
   ]
  },
  {
   "cell_type": "code",
   "execution_count": 2,
   "id": "f89b3392",
   "metadata": {},
   "outputs": [
    {
     "data": {
      "text/html": [
       "<style>.container { width:100% !important; }</style>"
      ],
      "text/plain": [
       "<IPython.core.display.HTML object>"
      ]
     },
     "metadata": {},
     "output_type": "display_data"
    }
   ],
   "source": [
    "from IPython.display import display, HTML\n",
    "display(HTML(\"<style>.container { width:100% !important; }</style>\"))"
   ]
  },
  {
   "cell_type": "code",
   "execution_count": 16,
   "id": "22f893b6",
   "metadata": {},
   "outputs": [
    {
     "ename": "ValueError",
     "evalue": "No matching response information found.",
     "output_type": "error",
     "traceback": [
      "\u001b[0;31m---------------------------------------------------------------------------\u001b[0m",
      "\u001b[0;31mValueError\u001b[0m                                Traceback (most recent call last)",
      "Input \u001b[0;32mIn [16]\u001b[0m, in \u001b[0;36m<cell line: 9>\u001b[0;34m()\u001b[0m\n\u001b[1;32m      6\u001b[0m tr \u001b[38;5;241m=\u001b[39m stream_z\u001b[38;5;241m.\u001b[39mselect()[\u001b[38;5;241m0\u001b[39m]\n\u001b[1;32m      7\u001b[0m \u001b[38;5;66;03m#ppsd = PPSD(tr.stats, metadata=inv)\u001b[39;00m\n\u001b[1;32m      8\u001b[0m \u001b[38;5;66;03m#ppsd.add(stream_z)\u001b[39;00m\n\u001b[0;32m----> 9\u001b[0m \u001b[43mtr\u001b[49m\u001b[38;5;241;43m.\u001b[39;49m\u001b[43mremove_response\u001b[49m\u001b[43m(\u001b[49m\u001b[43minventory\u001b[49m\u001b[38;5;241;43m=\u001b[39;49m\u001b[43minv\u001b[49m\u001b[43m)\u001b[49m\n",
      "File \u001b[0;32m~/research/Oman/venv/lib/python3.8/site-packages/decorator.py:232\u001b[0m, in \u001b[0;36mdecorate.<locals>.fun\u001b[0;34m(*args, **kw)\u001b[0m\n\u001b[1;32m    230\u001b[0m \u001b[38;5;28;01mif\u001b[39;00m \u001b[38;5;129;01mnot\u001b[39;00m kwsyntax:\n\u001b[1;32m    231\u001b[0m     args, kw \u001b[38;5;241m=\u001b[39m fix(args, kw, sig)\n\u001b[0;32m--> 232\u001b[0m \u001b[38;5;28;01mreturn\u001b[39;00m \u001b[43mcaller\u001b[49m\u001b[43m(\u001b[49m\u001b[43mfunc\u001b[49m\u001b[43m,\u001b[49m\u001b[43m \u001b[49m\u001b[38;5;241;43m*\u001b[39;49m\u001b[43m(\u001b[49m\u001b[43mextras\u001b[49m\u001b[43m \u001b[49m\u001b[38;5;241;43m+\u001b[39;49m\u001b[43m \u001b[49m\u001b[43margs\u001b[49m\u001b[43m)\u001b[49m\u001b[43m,\u001b[49m\u001b[43m \u001b[49m\u001b[38;5;241;43m*\u001b[39;49m\u001b[38;5;241;43m*\u001b[39;49m\u001b[43mkw\u001b[49m\u001b[43m)\u001b[49m\n",
      "File \u001b[0;32m~/research/Oman/venv/lib/python3.8/site-packages/obspy/core/trace.py:282\u001b[0m, in \u001b[0;36m_add_processing_info\u001b[0;34m(func, *args, **kwargs)\u001b[0m\n\u001b[1;32m    280\u001b[0m info \u001b[38;5;241m=\u001b[39m info \u001b[38;5;241m%\u001b[39m \u001b[38;5;124m\"\u001b[39m\u001b[38;5;124m::\u001b[39m\u001b[38;5;124m\"\u001b[39m\u001b[38;5;241m.\u001b[39mjoin(arguments)\n\u001b[1;32m    281\u001b[0m \u001b[38;5;28mself\u001b[39m \u001b[38;5;241m=\u001b[39m args[\u001b[38;5;241m0\u001b[39m]\n\u001b[0;32m--> 282\u001b[0m result \u001b[38;5;241m=\u001b[39m \u001b[43mfunc\u001b[49m\u001b[43m(\u001b[49m\u001b[38;5;241;43m*\u001b[39;49m\u001b[43margs\u001b[49m\u001b[43m,\u001b[49m\u001b[43m \u001b[49m\u001b[38;5;241;43m*\u001b[39;49m\u001b[38;5;241;43m*\u001b[39;49m\u001b[43mkwargs\u001b[49m\u001b[43m)\u001b[49m\n\u001b[1;32m    283\u001b[0m \u001b[38;5;66;03m# Attach after executing the function to avoid having it attached\u001b[39;00m\n\u001b[1;32m    284\u001b[0m \u001b[38;5;66;03m# while the operation failed.\u001b[39;00m\n\u001b[1;32m    285\u001b[0m \u001b[38;5;28mself\u001b[39m\u001b[38;5;241m.\u001b[39m_internal_add_processing_info(info)\n",
      "File \u001b[0;32m~/research/Oman/venv/lib/python3.8/site-packages/obspy/core/trace.py:2815\u001b[0m, in \u001b[0;36mTrace.remove_response\u001b[0;34m(self, inventory, output, water_level, pre_filt, zero_mean, taper, taper_fraction, plot, fig, **kwargs)\u001b[0m\n\u001b[1;32m   2812\u001b[0m \u001b[38;5;28;01mif\u001b[39;00m plot:\n\u001b[1;32m   2813\u001b[0m     \u001b[38;5;28;01mimport\u001b[39;00m \u001b[38;5;21;01mmatplotlib\u001b[39;00m\u001b[38;5;21;01m.\u001b[39;00m\u001b[38;5;21;01mpyplot\u001b[39;00m \u001b[38;5;28;01mas\u001b[39;00m \u001b[38;5;21;01mplt\u001b[39;00m\n\u001b[0;32m-> 2815\u001b[0m response \u001b[38;5;241m=\u001b[39m \u001b[38;5;28;43mself\u001b[39;49m\u001b[38;5;241;43m.\u001b[39;49m\u001b[43m_get_response\u001b[49m\u001b[43m(\u001b[49m\u001b[43minventory\u001b[49m\u001b[43m)\u001b[49m\n\u001b[1;32m   2816\u001b[0m \u001b[38;5;66;03m# polynomial response using blockette 62 stage 0\u001b[39;00m\n\u001b[1;32m   2817\u001b[0m \u001b[38;5;28;01mif\u001b[39;00m \u001b[38;5;129;01mnot\u001b[39;00m response\u001b[38;5;241m.\u001b[39mresponse_stages \u001b[38;5;129;01mand\u001b[39;00m response\u001b[38;5;241m.\u001b[39minstrument_polynomial:\n",
      "File \u001b[0;32m~/research/Oman/venv/lib/python3.8/site-packages/obspy/core/trace.py:2637\u001b[0m, in \u001b[0;36mTrace._get_response\u001b[0;34m(self, inventories)\u001b[0m\n\u001b[1;32m   2635\u001b[0m \u001b[38;5;28;01melif\u001b[39;00m \u001b[38;5;28mlen\u001b[39m(responses) \u001b[38;5;241m<\u001b[39m \u001b[38;5;241m1\u001b[39m:\n\u001b[1;32m   2636\u001b[0m     msg \u001b[38;5;241m=\u001b[39m \u001b[38;5;124m\"\u001b[39m\u001b[38;5;124mNo matching response information found.\u001b[39m\u001b[38;5;124m\"\u001b[39m\n\u001b[0;32m-> 2637\u001b[0m     \u001b[38;5;28;01mraise\u001b[39;00m \u001b[38;5;167;01mValueError\u001b[39;00m(msg)\n\u001b[1;32m   2638\u001b[0m \u001b[38;5;28;01mreturn\u001b[39;00m responses[\u001b[38;5;241m0\u001b[39m]\n",
      "\u001b[0;31mValueError\u001b[0m: No matching response information found."
     ]
    }
   ],
   "source": [
    "chan_z = 'GHZ'\n",
    "statlist = [ 'A01' ,'A04']\n",
    "day = 15\n",
    "inv = obspy.read_inventory(\"7F.OmanDP.PIC.2020127.xml\")\n",
    "stream_z = obspy.read(\"/media/sbrent/Oman3/PASSCAL/Main_deployment/DAYS/\" +statlist[0]+ \"/*..\" + chan_z +\".2020.0\" +str(day))\n",
    "tr = stream_z.select()[0]\n",
    "#ppsd = PPSD(tr.stats, metadata=inv)\n",
    "#ppsd.add(stream_z)\n",
    "tr.remove_response(inventory=inv)"
   ]
  },
  {
   "cell_type": "code",
   "execution_count": null,
   "id": "381a374b",
   "metadata": {},
   "outputs": [],
   "source": []
  }
 ],
 "metadata": {
  "kernelspec": {
   "display_name": "Python 3 (ipykernel)",
   "language": "python",
   "name": "python3"
  },
  "language_info": {
   "codemirror_mode": {
    "name": "ipython",
    "version": 3
   },
   "file_extension": ".py",
   "mimetype": "text/x-python",
   "name": "python",
   "nbconvert_exporter": "python",
   "pygments_lexer": "ipython3",
   "version": "3.8.10"
  }
 },
 "nbformat": 4,
 "nbformat_minor": 5
}
