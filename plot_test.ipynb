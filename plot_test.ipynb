{
 "cells": [
  {
   "cell_type": "code",
   "execution_count": 1,
   "id": "cae94003",
   "metadata": {},
   "outputs": [],
   "source": [
    "import os\n",
    "import sys\n",
    "sys.path.append(os.getcwd())\n",
    "\n",
    "import matplotlib.pyplot as plt\n",
    "import matplotlib.ticker as ticker\n",
    "import glob\n",
    "import obspy"
   ]
  },
  {
   "cell_type": "code",
   "execution_count": 2,
   "id": "25015aa4",
   "metadata": {},
   "outputs": [],
   "source": [
    "def plot_wave_test(obspydata, **kwargs):\n",
    "    data_len = len(obspydata)\n",
    "    fig, ax = plt.subplots(data_len, 1, sharex=True, sharey=True, squeeze = True)\n",
    "\n",
    "    for n, tr in enumerate(obspydata):\n",
    "        #mean = np.array(tr.data) - np.mean(np.array(tr.data))\n",
    "        ax[n].plot(tr.times('matplotlib'), np.array(tr.data) - np.mean(np.array(tr.data)), **kwargs)\n",
    "        #ax[n].set_ylabel('Pressure (Pa)', fontsize=15)\n",
    "        \n",
    "    ax[n].xaxis.set_major_formatter(\"%H:%M:%S\")\n",
    "\n",
    "    \n",
    "    #fig.tight_layout(pad=0)\n",
    "    return fig, ax"
   ]
  },
  {
   "cell_type": "code",
   "execution_count": 3,
   "id": "04d8de6d",
   "metadata": {},
   "outputs": [
    {
     "name": "stdout",
     "output_type": "stream",
     "text": [
      "WOOHOO_TEST!\n"
     ]
    }
   ],
   "source": [
    "if __name__=='__main__':\n",
    "    print('WOOHOO_TEST!')"
   ]
  },
  {
   "cell_type": "code",
   "execution_count": null,
   "id": "9780f742",
   "metadata": {},
   "outputs": [],
   "source": []
  }
 ],
 "metadata": {
  "kernelspec": {
   "display_name": "Python 3 (ipykernel)",
   "language": "python",
   "name": "python3"
  },
  "language_info": {
   "codemirror_mode": {
    "name": "ipython",
    "version": 3
   },
   "file_extension": ".py",
   "mimetype": "text/x-python",
   "name": "python",
   "nbconvert_exporter": "python",
   "pygments_lexer": "ipython3",
   "version": "3.8.10"
  }
 },
 "nbformat": 4,
 "nbformat_minor": 5
}
