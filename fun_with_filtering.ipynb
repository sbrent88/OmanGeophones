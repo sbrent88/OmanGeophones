{
 "cells": [
  {
   "cell_type": "code",
   "execution_count": 1,
   "id": "1b3b20df",
   "metadata": {},
   "outputs": [],
   "source": [
    "%matplotlib widget\n",
    "import obspy\n",
    "from obspy.signal.trigger import classic_sta_lta, recursive_sta_lta, aic_simple\n",
    "from obspy.signal.trigger import plot_trigger\n",
    "from obspy.signal.trigger import coincidence_trigger\n",
    "from obspy.signal.cross_correlation import correlation_detector\n",
    "from obspy.signal import PPSD\n",
    "from obspy import read_inventory\n",
    "from obspy.realtime.signal import kurtosis\n",
    "from obspy.signal import filter\n",
    "\n",
    "\n",
    "\n",
    "from hydrophone_data_processing import load, useful_variables, plotting, signal_processing\n",
    "import obspy.signal.trigger as trigger\n",
    "from pprint import pprint\n",
    "import pandas as pd\n",
    "import numpy as np\n",
    "import matplotlib.pyplot as plt\n",
    "\n",
    "import plot_working\n",
    "import event_processing\n",
    "import loading_stream_function\n",
    "\n",
    "import matplotlib.ticker as ticker\n",
    "from datetime import datetime\n",
    "from datetime import timedelta"
   ]
  },
  {
   "cell_type": "code",
   "execution_count": null,
   "id": "db4c9840",
   "metadata": {},
   "outputs": [],
   "source": [
    "from IPython.display import display, HTML\n",
    "display(HTML(\"<style>.container { width:100% !important; }</style>\"))"
   ]
  },
  {
   "cell_type": "code",
   "execution_count": null,
   "id": "05c690cc",
   "metadata": {},
   "outputs": [],
   "source": [
    "chan = 'GHZ'\n",
    "#statlist = [ 'A01' ,'A03' , 'A05' , 'A07' , 'A09' , 'A11' , 'A13' , 'A15' , 'A17' , 'A19' ]\n",
    "statlist = [ 'A01' ,'A02' , 'A03' , 'A04' , 'A05' , 'A06' , 'A07' , 'A08' , 'A09', 'A10' , 'A11', 'A13', 'A14', 'A19']#, 'A16', 'A17', 'A18', 'A19' ]\n",
    "#statlist = [ 'B01' ,'B02' , 'B03' , 'B04' , 'B06' , 'B07' , 'B08' , 'B09','B10' , 'B11', 'B12', 'B13' , 'B19' , 'B20']#,'B14','B15','B16','B17','B18','B19', 'B20' ]\n",
    "\n",
    "day = 15\n",
    "stream = obspy.read(\"/media/sbrent/Oman3/PASSCAL/Main_deployment/DAYS/\" +statlist[0]+ \"/*..\" + chan +\".2020.0\" +str(day))\n"
   ]
  },
  {
   "cell_type": "code",
   "execution_count": null,
   "id": "5c2d5124",
   "metadata": {},
   "outputs": [],
   "source": [
    "for s in statlist[1:]:\n",
    "    \n",
    "    stream += obspy.read(\"/media/sbrent/Oman3/PASSCAL/Main_deployment/DAYS/\" + s + \"/*..\" + chan + \".2020.0\" + str(day))\n"
   ]
  },
  {
   "cell_type": "code",
   "execution_count": null,
   "id": "4c3d1020",
   "metadata": {},
   "outputs": [],
   "source": [
    "hr = 15\n",
    "start_time = obspy.UTCDateTime('2020-1-' + str(day) + 'T00:00:00')+hr*3600\n",
    "end_time = obspy.UTCDateTime('2020-1-' + str(day) + 'T00:00:00')+(hr+1)*3600\n",
    "data15 = stream.slice(starttime=start_time,endtime=end_time) #look into trim()\n",
    "#print(data)\n",
    "print(start_time, end_time)"
   ]
  },
  {
   "cell_type": "code",
   "execution_count": null,
   "id": "d080c2bd",
   "metadata": {},
   "outputs": [],
   "source": [
    "data15_cp = data15.copy()\n",
    "data15_cp2 = data15.copy()\n",
    "data15_cp3 = data15.copy()\n",
    "data15_cp4 = data15.copy()\n",
    "data15_cp5 = data15.copy()\n",
    "data15_cp6 = data15.copy()"
   ]
  },
  {
   "cell_type": "code",
   "execution_count": null,
   "id": "c96e64e3",
   "metadata": {},
   "outputs": [],
   "source": [
    "\n",
    "stream_filt = data15.filter('highpass', corners=4, freq=80, zerophase=False)\n",
    "stream_2 = stream_filt.copy()\n",
    "events = coincidence_trigger(\"classicstalta\", 5, 0.8, stream_2, 3, sta=0.02, lta=0.2)\n",
    "events = pd.DataFrame(events)\n",
    "\n",
    "#g_wind1 = event_processing.get_event_window_raw(data15_cp,TIME)"
   ]
  },
  {
   "cell_type": "code",
   "execution_count": null,
   "id": "705db520",
   "metadata": {},
   "outputs": [],
   "source": [
    "event_idx = 509\n",
    "TIME = events.time[event_idx]\n",
    "print(TIME)\n",
    "g_wind1 = event_processing.get_event_window_raw(data15_cp,TIME)\n",
    "g_wind1 = g_wind1.detrend('demean')"
   ]
  },
  {
   "cell_type": "code",
   "execution_count": null,
   "id": "06a8e4fb",
   "metadata": {},
   "outputs": [],
   "source": [
    "event_idx = 509"
   ]
  },
  {
   "cell_type": "code",
   "execution_count": null,
   "id": "479b9800",
   "metadata": {},
   "outputs": [],
   "source": [
    "event_idx1 = 147\n",
    "event_idx2 = 992\n",
    "event_idx3 = 1095\n",
    "TIME_EV2 = events.time[event_idx1]\n",
    "print(TIME_EV2)\n",
    "TIME_EV3 = events.time[event_idx2]\n",
    "print(TIME_EV3)\n",
    "TIME_EV4 = events.time[event_idx3]\n",
    "print(TIME_EV4)\n",
    "\n",
    "g_wind2 = event_processing.get_event_window_raw(data15_cp3,TIME_EV2)\n",
    "g_wind2 = g_wind2.detrend('demean')\n",
    "g_wind3 = event_processing.get_event_window_raw(data15_cp4,TIME_EV3)\n",
    "g_wind3 = g_wind3.detrend('demean')\n",
    "g_wind4 = event_processing.get_event_window_raw(data15_cp5,TIME_EV4)\n",
    "g_wind4 = g_wind4.detrend('demean')"
   ]
  },
  {
   "cell_type": "code",
   "execution_count": null,
   "id": "9c7badff",
   "metadata": {},
   "outputs": [],
   "source": [
    "g_wind3"
   ]
  },
  {
   "cell_type": "code",
   "execution_count": null,
   "id": "5f1aec22",
   "metadata": {},
   "outputs": [],
   "source": [
    "events.time[event_idx3]"
   ]
  },
  {
   "cell_type": "code",
   "execution_count": null,
   "id": "3b590891",
   "metadata": {},
   "outputs": [],
   "source": [
    "events.coincidence_sum[event_idx3]"
   ]
  },
  {
   "cell_type": "code",
   "execution_count": null,
   "id": "e3b00b01",
   "metadata": {},
   "outputs": [],
   "source": [
    "events.trace_ids[event_idx3]"
   ]
  },
  {
   "cell_type": "code",
   "execution_count": null,
   "id": "6b653be2",
   "metadata": {},
   "outputs": [],
   "source": [
    "#def events_coincidence (coin_sum, time):\n",
    "#    df[coin_sum]= np.where((df[coin_sum])>9.0, df[time])\n",
    "#    return df"
   ]
  },
  {
   "cell_type": "code",
   "execution_count": null,
   "id": "7500edaf",
   "metadata": {},
   "outputs": [],
   "source": [
    "#df = events_coincidence('coincidence_sum', 'time')"
   ]
  },
  {
   "cell_type": "code",
   "execution_count": null,
   "id": "7fed58e5",
   "metadata": {},
   "outputs": [],
   "source": [
    "class PrecisionDateFormatter(ticker.Formatter):\n",
    "    \"\"\"\n",
    "    Extend the `matplotlib.ticker.Formatter` class to allow for millisecond\n",
    "    precision when formatting a tick (in days since the epoch) with a\n",
    "    `~datetime.datetime.strftime` format string.\n",
    "\n",
    "    \"\"\"\n",
    "\n",
    "    def __init__(self, fmt, precision=3, tz=None):\n",
    "        \"\"\"\n",
    "        Parameters\n",
    "        ----------\n",
    "        fmt : str\n",
    "            `~datetime.datetime.strftime` format string.\n",
    "        \"\"\"\n",
    "        from matplotlib.dates import num2date\n",
    "        if tz is None:\n",
    "            from matplotlib.dates import _get_rc_timezone\n",
    "            tz = _get_rc_timezone()\n",
    "        self.num2date = num2date\n",
    "        self.fmt = fmt\n",
    "        self.tz = tz\n",
    "        self.precision = precision\n",
    "\n",
    "    def __call__(self, x, pos=0):\n",
    "        if x == 0:\n",
    "            raise ValueError(\"DateFormatter found a value of x=0, which is \"\n",
    "                             \"an illegal date; this usually occurs because \"\n",
    "                             \"you have not informed the axis that it is \"\n",
    "                             \"plotting dates, e.g., with ax.xaxis_date()\")\n",
    "\n",
    "        dt = self.num2date(x, self.tz)\n",
    "        ms = dt.strftime(\"%f\")[:self.precision]\n",
    "\n",
    "        return dt.strftime(self.fmt).format(ms=ms)\n",
    "\n",
    "    def set_tzinfo(self, tz):\n",
    "        self.tz = tz"
   ]
  },
  {
   "cell_type": "code",
   "execution_count": null,
   "id": "3c9acaf4",
   "metadata": {},
   "outputs": [],
   "source": [
    "fig, ax = plt.subplots(1, figsize=(17, 10), sharex=True, sharey=False)\n",
    "ax.plot(data15_cp2[0].times('matplotlib'), data15_cp2[0].data)\n",
    "ax.xaxis.set_major_formatter(PrecisionDateFormatter(\"%H:%M:%S.{ms}\"))"
   ]
  },
  {
   "cell_type": "code",
   "execution_count": null,
   "id": "b2daec9d",
   "metadata": {},
   "outputs": [],
   "source": [
    "TIME1 = obspy.UTCDateTime('2020-1-' + str(day) + 'T15:20:14')\n",
    "noise1 = event_processing.get_event_window_raw(data15_cp,TIME1)\n",
    "\n",
    "TIME2 = obspy.UTCDateTime('2020-1-' + str(day) + 'T15:20:15')\n",
    "noise2 = event_processing.get_event_window_raw(data15_cp,TIME2)\n",
    "\n",
    "hr = 16\n",
    "start_time1 = obspy.UTCDateTime('2020-1-' + str(day) + 'T00:00:00')+hr*3600\n",
    "end_time1 = obspy.UTCDateTime('2020-1-' + str(day) + 'T00:00:00')+(hr+1)*3600\n",
    "data16 = stream.slice(starttime=start_time1,endtime=end_time1) #look into trim()\n",
    "\n",
    "TIME3 = obspy.UTCDateTime('2020-1-' + str(day) + 'T16:16:40')\n",
    "noise3 = event_processing.get_event_window_raw(data16,TIME3)\n",
    "\n",
    "TIME4 = obspy.UTCDateTime('2020-1-' + str(day) + 'T16:16:45')\n",
    "noise4 = event_processing.get_event_window_raw(data16,TIME4)\n",
    "\n",
    "TIME5 = obspy.UTCDateTime('2020-1-' + str(day) + 'T16:16:49')\n",
    "noise5 = event_processing.get_event_window_raw(data16,TIME5)\n",
    "\n",
    "TIME6 = obspy.UTCDateTime('2020-1-' + str(day) + 'T16:16:53')\n",
    "noise6 = event_processing.get_event_window_raw(data16,TIME6)\n",
    "\n",
    "TIME7 = obspy.UTCDateTime('2020-1-' + str(day) + 'T16:50:26')\n",
    "noise7 = event_processing.get_event_window_raw(data16,TIME7)\n",
    "\n",
    "\n",
    "TIME8 = obspy.UTCDateTime('2020-1-' + str(day) + 'T16:50:31')\n",
    "noise8 = event_processing.get_event_window_raw(data16,TIME8)\n",
    "\n",
    "TIME9 = obspy.UTCDateTime('2020-1-' + str(day) + 'T16:50:35')\n",
    "noise9 = event_processing.get_event_window_raw(data16,TIME9)\n",
    "\n",
    "\n",
    "TIME10 = obspy.UTCDateTime('2020-1-' + str(day) + 'T16:02:10')\n",
    "noise10 = event_processing.get_event_window_raw(data16,TIME10)"
   ]
  },
  {
   "cell_type": "code",
   "execution_count": null,
   "id": "4961a754",
   "metadata": {},
   "outputs": [],
   "source": [
    "from spectrum import *\n",
    "def multi_taper(N, NW, k, dt, data):\n",
    "    \"This function depends on spectrum so it needs to be imported\"\n",
    "    [tapers, eigen] = dpss(N, NW, k)\n",
    "    Sk_complex, weights, eigenvalues=pmtm(data, e=eigen, v=tapers, NFFT=N, show=False)\n",
    "\n",
    "    Sk = abs(Sk_complex)**2\n",
    "    Sk = np.mean(Sk * np.transpose(weights), axis=0) * dt\n",
    "    #print(Sk[0])\n",
    "    return Sk"
   ]
  },
  {
   "cell_type": "code",
   "execution_count": null,
   "id": "8090f2d8",
   "metadata": {},
   "outputs": [],
   "source": [
    "N = len(g_wind1[0].data)\n",
    "NW = 3/2\n",
    "k = 8\n",
    "data = g_wind1[0].data\n",
    "dt=g_wind1[0].stats.delta\n",
    "\n",
    "data_n1 = noise1[0].data\n",
    "data_n2 = noise2[0].data\n",
    "data_n3 = noise3[0].data\n",
    "data_n4 = noise4[0].data\n",
    "data_n5 = noise5[0].data\n",
    "data_n6 = noise6[0].data\n",
    "data_n7 = noise7[0].data\n",
    "data_n8 = noise8[0].data\n",
    "data_n9 = noise9[0].data\n",
    "data_n10 = noise10[0].data"
   ]
  },
  {
   "cell_type": "code",
   "execution_count": null,
   "id": "13dac6f6",
   "metadata": {},
   "outputs": [],
   "source": [
    "mtp_n1 = multi_taper(N=len(g_wind1[0].data), NW=1.0, k=8, dt = g_wind1[0].stats.delta, data = data_n1)\n",
    "mtp_n2 = multi_taper(N=len(g_wind1[0].data), NW=1.0, k=8, dt = g_wind1[0].stats.delta, data = data_n2)\n",
    "mtp_n3 = multi_taper(N=len(g_wind1[0].data), NW=1.0, k=8, dt = g_wind1[0].stats.delta, data = data_n3)\n",
    "mtp_n4 = multi_taper(N=len(g_wind1[0].data), NW=1.0, k=8, dt = g_wind1[0].stats.delta, data = data_n4)\n",
    "mtp_n5 = multi_taper(N=len(g_wind1[0].data), NW=1.0, k=8, dt = g_wind1[0].stats.delta, data = data_n5)\n",
    "mtp_n6 = multi_taper(N=len(g_wind1[0].data), NW=1.0, k=8, dt = g_wind1[0].stats.delta, data = data_n6)\n",
    "mtp_n7 = multi_taper(N=len(g_wind1[0].data), NW=1.0, k=8, dt = g_wind1[0].stats.delta, data = data_n7)\n",
    "mtp_n8 = multi_taper(N=len(g_wind1[0].data), NW=1.0, k=8, dt = g_wind1[0].stats.delta, data = data_n8)\n",
    "mtp_n9 = multi_taper(N=len(g_wind1[0].data), NW=1.0, k=8, dt = g_wind1[0].stats.delta, data = data_n9)\n",
    "mtp_n10 = multi_taper(N=len(g_wind1[0].data), NW=1.0, k=8, dt = g_wind1[0].stats.delta, data = data_n10)\n",
    "\n",
    "average_noise_mtm = (mtp_n1 + mtp_n2 + mtp_n3 + mtp_n4 + mtp_n5 + mtp_n6 + mtp_n7 + mtp_n8 + mtp_n9 + mtp_n10)/10"
   ]
  },
  {
   "cell_type": "code",
   "execution_count": null,
   "id": "0aa56777",
   "metadata": {},
   "outputs": [],
   "source": [
    "data_cp1 = g_wind1.copy()\n",
    "data_cp2 = g_wind1.copy()\n",
    "data_cp3 = g_wind1.copy()\n",
    "data_cp4 = g_wind1.copy()\n",
    "data_hp = data_cp1.filter(type='highpass', corners=4, zerophase=True, freq=20)\n",
    "data_hp_cp = data_hp.copy()\n",
    "data_lp = data_hp_cp.filter(type='lowpass', corners=4, zerophase=True, freq=200)\n",
    "\n",
    "data_hp350 = data_cp1.filter(type='highpass', corners=4, zerophase=True, freq=350)\n",
    "#data_hp350 = data_hp350[0].data\n",
    "\n",
    "data_lp250 = data_cp4.filter(type='lowpass', corners=4, zerophase=True, freq=250)\n",
    "#data_lp250 = data_lp250[0].data\n",
    "\n",
    "\n",
    "data_bp = data_cp2.filter(type=\"bandpass\", freqmin=100, freqmax=250)  \n",
    "#data_bp = data_bp[0].data"
   ]
  },
  {
   "cell_type": "code",
   "execution_count": null,
   "id": "2e7db56d",
   "metadata": {},
   "outputs": [],
   "source": [
    "data_ev2_cp1 = g_wind2.copy()\n",
    "data_ev2_cp2 = g_wind2.copy()\n",
    "data_ev2_cp3 = g_wind2.copy()\n",
    "data_ev2_hp350 = data_ev2_cp2.filter(type='highpass', corners=4, zerophase=True, freq=350)\n",
    "data_ev2_bp = data_ev2_cp3.filter(type=\"bandpass\", freqmin=100, freqmax=250)  "
   ]
  },
  {
   "cell_type": "code",
   "execution_count": null,
   "id": "597b5979",
   "metadata": {},
   "outputs": [],
   "source": [
    "data_ev3_cp1 = g_wind3.copy()\n",
    "data_ev3_cp2 = g_wind3.copy()\n",
    "data_ev3_cp3 = g_wind3.copy()\n",
    "data_ev3_hp350 = data_ev3_cp2.filter(type='highpass', corners=4, zerophase=True, freq=350)\n",
    "data_ev3_bp = data_ev3_cp3.filter(type=\"bandpass\", freqmin=100, freqmax=250)  "
   ]
  },
  {
   "cell_type": "code",
   "execution_count": null,
   "id": "455554e4",
   "metadata": {},
   "outputs": [],
   "source": [
    "data_ev4_cp1 = g_wind4.copy()\n",
    "data_ev4_cp2 = g_wind4.copy()\n",
    "data_ev4_cp3 = g_wind4.copy()\n",
    "data_ev4_hp350 = data_ev4_cp2.filter(type='highpass', corners=4, zerophase=True, freq=350)\n",
    "data_ev4_bp = data_ev4_cp3.filter(type=\"bandpass\", freqmin=100, freqmax=250)  "
   ]
  },
  {
   "cell_type": "code",
   "execution_count": null,
   "id": "da1967f7",
   "metadata": {},
   "outputs": [],
   "source": [
    "data_lp_hp = data_hp[0].data\n",
    "data_lp_hp_mtm = multi_taper(N=len(g_wind1[0].data), NW=1.0, k=8, dt = g_wind1[0].stats.delta, data = data_lp_hp)\n",
    "\n",
    "data_bp = data_bp[0].data\n",
    "data_bp_mtm = multi_taper(N=len(g_wind1[0].data), NW=1.0, k=8, dt = g_wind1[0].stats.delta, data = data_bp)"
   ]
  },
  {
   "cell_type": "code",
   "execution_count": null,
   "id": "63f82f61",
   "metadata": {},
   "outputs": [],
   "source": [
    "from spectrum import *\n",
    "\n",
    "x = np.linspace(0.0, N*dt, N)\n",
    "y = data\n",
    "plt.figure()\n",
    "plt.plot(x,y, 'limegreen', label = \"main event\")\n",
    "#plt.plot(x,data_lp_hp,'green',label = \"lp hp\")\n",
    "#plt.plot(x, data_bp, 'blue', label = \"bp\")\n",
    "plt.plot(x, data_hp350, 'blue', label = \"hp350\")\n",
    "plt.plot(x, data_bp, 'purple', label = \"bp100-250\")\n",
    "\n",
    "plt.legend(loc=\"upper right\")\n",
    "\n",
    "# classical FFT\n",
    "xf = np.linspace(0.0, 1.0/(2.0*dt), N//2)\n",
    "y_event = np.fft.fft(y)\n",
    "\n",
    "#y_n1 = np.fft.fft(data_n1)\n",
    "#y_n2 = np.fft.fft(data_n2)\n",
    "#y_n3 = np.fft.fft(data_n3)\n",
    "#y_n4 = np.fft.fft(data_n4)\n",
    "#y_n5 = np.fft.fft(data_n5)\n",
    "#y_n6 = np.fft.fft(data_n6)\n",
    "#y_n7 = np.fft.fft(data_n7)\n",
    "#y_n8 = np.fft.fft(data_n8)\n",
    "#y_n9 = np.fft.fft(data_n9)\n",
    "#y_n10 = np.fft.fft(data_n10)\n",
    "\n",
    "\n",
    "# The multitapered method\n",
    "NW=1.0\n",
    "k=8\n",
    "[tapers, eigen] = dpss(N, NW, k)\n",
    "Sk_complex, weights, eigenvalues=pmtm(y, e=eigen, v=tapers, NFFT=N, show=False)\n",
    "\n",
    "Sk = abs(Sk_complex)**2\n",
    "Sk = np.mean(Sk * np.transpose(weights), axis=0) * dt\n",
    "print(Sk[0])\n",
    "# ploting both results\n",
    "#plt.figure()\n",
    "#plt.plot(xf,abs(y_event[0:N//2])**2 / N * dt, 'limegreen')\n",
    "#plt.plot(xf,Sk[0:N//2], 'dodgerblue')\n",
    "\n",
    "# ploting both results in log scale\n",
    "plt.figure()\n",
    "plt.semilogy(xf, abs(y_event[0:N // 2]) ** 2 / N * dt, 'limegreen')\n",
    "plt.semilogy(xf, Sk[0:N // 2], 'dodgerblue', label = \"main event\")\n",
    "\n",
    "plt.semilogy(xf, mtp_n1[0:N // 2], 'blue', label = \"noise1\")\n",
    "plt.semilogy(xf, mtp_n2[0:N // 2], 'orange', label = \"noise2\")\n",
    "plt.semilogy(xf, mtp_n3[0:N // 2], 'green', label = \"noise3\")\n",
    "plt.semilogy(xf, mtp_n4[0:N // 2], 'red', label = \"noise4\")\n",
    "plt.semilogy(xf, mtp_n5[0:N // 2], 'purple', label = \"noise5\")\n",
    "plt.semilogy(xf, mtp_n6[0:N // 2], 'brown', label = \"noise6\")\n",
    "plt.semilogy(xf, mtp_n7[0:N // 2], 'pink', label = \"noise7\")\n",
    "plt.semilogy(xf, mtp_n8[0:N // 2], 'gray', label = \"noise8\")\n",
    "plt.semilogy(xf, mtp_n9[0:N // 2], 'cyan', label = \"noise9\")\n",
    "plt.semilogy(xf, mtp_n10[0:N // 2], 'turquoise', label = \"noise10\")\n",
    "plt.legend(loc=\"upper right\")\n",
    "\n",
    "\n",
    "\n",
    "\n",
    "plt.figure()\n",
    "#plt.semilogy(xf, abs(y_event[0:N // 2]) ** 2 / N * dt, 'limegreen')\n",
    "plt.semilogy(xf, Sk[0:N // 2], 'dodgerblue', label = \"main event\")data_bp\n",
    "plt.semilogy(xf, data_lp_hp_mtm[0:N // 2], 'royalblue', label = \"main event_hp_lp\")\n",
    "plt.semilogy(xf, data_bp_mtm[0:N // 2], 'green', label = \"main event_bp\")\n",
    "plt.semilogy(xf, average_noise_mtm[0:N // 2], 'turquoise', label = \"averaged_noise\")\n",
    "plt.legend(loc=\"upper right\")"
   ]
  },
  {
   "cell_type": "code",
   "execution_count": null,
   "id": "2ebc855e",
   "metadata": {},
   "outputs": [],
   "source": [
    "df_time = events.time\n",
    "df_duration = events.duration\n",
    "ct_stations = events.stations\n",
    "ct_sum = events.coincidence_sum"
   ]
  },
  {
   "cell_type": "code",
   "execution_count": null,
   "id": "0998f85e",
   "metadata": {},
   "outputs": [],
   "source": [
    "len(events.trace_ids.iloc[event_idx1])"
   ]
  },
  {
   "cell_type": "code",
   "execution_count": null,
   "id": "31a966c6",
   "metadata": {},
   "outputs": [],
   "source": [
    "axes_id = dict(np.array([['7F.A01..BHZ' ,'7F.A02..BHZ' , '7F.A03..BHZ' , '7F.A04..BHZ' , '7F.A05..BHZ' , '7F.A06..BHZ' , '7F.A07..BHZ' , '7F.A08..BHZ' , '7F.A09..BHZ'  , '7F.A10..BHZ' , '7F.A11..BHZ', '7F.A13..BHZ', '7F.A14..BHZ', '7F.A19..BHZ'],[0,1,2,3,4,5,6,7,8,9,10,11,12,13], ]).transpose())\n",
    "\n",
    "fig, ax = plt.subplots(14, figsize=(30, 75), sharex=True, sharey=False)\n",
    "\n",
    "for id in events.trace_ids.iloc[event_idx1]:\n",
    "    \n",
    "    i = int(axes_id[id])\n",
    "    print(i)\n",
    "    ax[i].plot(g_wind2[i].times('matplotlib'), g_wind2[i].data, color='limegreen', label=\"event_unfiltered\")\n",
    "    ax[i].plot(data_ev2_hp350[i].times('matplotlib'), data_ev2_hp350[i].data, 'blue', label = \"hp350\")\n",
    "    ax[i].plot(g_wind2[i].times('matplotlib'), data_ev2_bp[i].data, 'purple', label = \"bp100-250\")\n",
    "    \n"
   ]
  },
  {
   "cell_type": "code",
   "execution_count": null,
   "id": "58f330ba",
   "metadata": {},
   "outputs": [],
   "source": [
    "axes_id = dict(np.array([['7F.A01..BHZ' ,'7F.A02..BHZ' , '7F.A03..BHZ' , '7F.A04..BHZ' , '7F.A05..BHZ' , '7F.A06..BHZ' , '7F.A07..BHZ' , '7F.A08..BHZ' , '7F.A09..BHZ'  , '7F.A10..BHZ' , '7F.A11..BHZ', '7F.A13..BHZ', '7F.A14..BHZ', '7F.A19..BHZ'],[0,1,2,3,4,5,6,7,8,9,10,11,12,13], ]).transpose())\n",
    "#axes_id = dict(np.array([['7F.B01..BHZ' ,'7F.B02..BHZ' , '7F.B03..BHZ' , '7F.B04..BHZ' , '7F.B06..BHZ' , '7F.B07..BHZ' , '7F.B08..BHZ' , '7F.B09..BHZ'  , '7F.B10..BHZ' , '7F.B11..BHZ', '7F.B12..BHZ' , '7F.B13..BHZ', '7F.B19..BHZ', '7F.B20..BHZ'],[0,1,2,3,4,5,6,7,8,9,10,11,12,13], ]).transpose())\n",
    "\n",
    "#axes_id = dict(np.array([['7F.B01..BHZ' ,'7F.B02..BHZ' , '7F.B03..BHZ' , '7F.B04..BHZ' , '7F.B06..BHZ' , '7F.B07..BHZ' , '7F.B08..BHZ' , '7F.B09..BHZ'  , '7F.B10..BHZ' , '7F.B11..BHZ', '7F.B12..BHZ' ,'7F.B13..BHZ','7F.B19..BHZ' '7F.B20..BHZ'],[0,1,2,3,4,5,6,7,8,9,10,11,12,13], ]).transpose())\n",
    "\n",
    "\n",
    "fig, ax = plt.subplots(len(events.trace_ids.iloc[event_idx]), figsize=(30, 75), sharex=True, sharey=False)\n",
    "\n",
    "#fig.text(s='duration (s) = '+str(events.duration), x=0.5, y=0.85, fontsize=15)\n",
    "#fig.text(s='coincidence sum = '+str(events.coincidence_sum), x=0.5, y=0.69, fontsize=15)\n",
    "#fig.text(s='starttime = '+str(start_time), x=0.35, y=0.525, fontsize=15)\n",
    "#props = dict(boxstyle='round', facecolor='wheat', alpha=0.5)\n",
    "#for i in np.arange(0, len(g_wind1), 1):\n",
    "for id in events.trace_ids.iloc[event_idx]:\n",
    "    i = int(axes_id[id])\n",
    "    print(i)\n",
    "    # plot waveform\n",
    "    ax[i].plot(g_wind1[i].times('matplotlib'), g_wind1[i].data, color='limegreen', label=\"event_unfiltered\")\n",
    "    ax[i].plot(data_hp350[i].times('matplotlib'), data_hp350[i].data, 'blue', label = \"hp350\")\n",
    "    ax[i].plot(g_wind1[i].times('matplotlib'), data_bp[i].data, 'purple', label = \"bp100-250\")\n",
    "\n",
    "\n",
    "\n",
    "    # plot geophone name\n",
    "    ax[i].text(1, 15000, list(axes_id.keys())[i])\n",
    "    #ax[i].text(x=1.0, y=20000.0, s=\"LALALA\")\n",
    "    #ax[i].text(0.1, 0.9,'matplotlib', ha='center', va='center', transform=ax.transAxes)\n",
    "ax[i].legend(loc=\"upper right\")\n",
    "ax[i].xaxis.set_major_formatter(PrecisionDateFormatter(\"%H:%M:%S.{ms}\"))\n",
    "    \n",
    "## TRYING TO PLOT WHEN TRIGGERED   \n",
    "#for j in range(len(df_time)):\n",
    "#    for id in events.trace_ids.iloc[j]:\n",
    "#        i = int(axes_id[id])\n",
    "#        ax[i].axvspan(df_time[j].timestamp - times_stamp[0][0], df_time[j].timestamp + events.duration[j] - times_stamp[0][0], ymin=0.1, ymax=0.9, alpha=0.25, color='red')\n"
   ]
  },
  {
   "cell_type": "code",
   "execution_count": null,
   "id": "e758adbb",
   "metadata": {},
   "outputs": [],
   "source": [
    "axes_id = dict(np.array([['7F.A01..BHZ' ,'7F.A02..BHZ' , '7F.A03..BHZ' , '7F.A04..BHZ' , '7F.A05..BHZ' , '7F.A06..BHZ' , '7F.A07..BHZ' , '7F.A08..BHZ' , '7F.A09..BHZ'  , '7F.A10..BHZ' , '7F.A11..BHZ', '7F.A13..BHZ', '7F.A14..BHZ', '7F.A19..BHZ'],[0,1,2,3,4,5,6,7,8,9,10,11,12,13], ]).transpose())\n",
    "#axes_id = dict(np.array([['7F.B01..BHZ' ,'7F.B02..BHZ' , '7F.B03..BHZ' , '7F.B04..BHZ' , '7F.B06..BHZ' , '7F.B07..BHZ' , '7F.B08..BHZ' , '7F.B09..BHZ'  , '7F.B10..BHZ' , '7F.B11..BHZ', '7F.B12..BHZ' , '7F.B13..BHZ', '7F.B19..BHZ', '7F.B20..BHZ'],[0,1,2,3,4,5,6,7,8,9,10,11,12,13], ]).transpose())\n",
    "\n",
    "#axes_id = dict(np.array([['7F.B01..BHZ' ,'7F.B02..BHZ' , '7F.B03..BHZ' , '7F.B04..BHZ' , '7F.B06..BHZ' , '7F.B07..BHZ' , '7F.B08..BHZ' , '7F.B09..BHZ'  , '7F.B10..BHZ' , '7F.B11..BHZ', '7F.B12..BHZ' ,'7F.B13..BHZ','7F.B19..BHZ' '7F.B20..BHZ'],[0,1,2,3,4,5,6,7,8,9,10,11,12,13], ]).transpose())\n",
    "\n",
    "\n",
    "fig, ax = plt.subplots(14, figsize=(30, 75), sharex=True, sharey=False)\n",
    "\n",
    "#fig.text(s='duration (s) = '+str(events.duration), x=0.5, y=0.85, fontsize=15)\n",
    "#fig.text(s='coincidence sum = '+str(events.coincidence_sum), x=0.5, y=0.69, fontsize=15)\n",
    "#fig.text(s='starttime = '+str(start_time), x=0.35, y=0.525, fontsize=15)\n",
    "#props = dict(boxstyle='round', facecolor='wheat', alpha=0.5)\n",
    "#for i in np.arange(0, len(g_wind1), 1):\n",
    "for id in events.trace_ids.iloc[event_idx1]:\n",
    "    i = int(axes_id[id])\n",
    "    print(i)\n",
    "    # plot waveform\n",
    "    ax[i].plot(g_wind2[i].times('matplotlib'), g_wind2[i].data, color='limegreen', label=\"event_unfiltered\")\n",
    "    ax[i].plot(data_ev2_hp350[i].times('matplotlib'), data_ev2_hp350[i].data, 'blue', label = \"hp350\")\n",
    "    ax[i].plot(g_wind2[i].times('matplotlib'), data_ev2_bp[i].data, 'purple', label = \"bp100-250\")\n",
    "\n"
   ]
  },
  {
   "cell_type": "code",
   "execution_count": null,
   "id": "3d098d2d",
   "metadata": {},
   "outputs": [],
   "source": [
    "axes_id = dict(np.array([['7F.A01..BHZ' ,'7F.A02..BHZ' , '7F.A03..BHZ' , '7F.A04..BHZ' , '7F.A05..BHZ' , '7F.A06..BHZ' , '7F.A07..BHZ' , '7F.A08..BHZ' , '7F.A09..BHZ'  , '7F.A10..BHZ' , '7F.A11..BHZ', '7F.A13..BHZ', '7F.A14..BHZ', '7F.A19..BHZ'],[0,1,2,3,4,5,6,7,8,9,10,11,12,13], ]).transpose())\n",
    "for id in events.trace_ids.iloc[event_idx1]:\n",
    "    i = int(axes_id[id]) + 1\n",
    "    print(id)\n",
    "    print(i)"
   ]
  },
  {
   "cell_type": "code",
   "execution_count": null,
   "id": "202cc4b7",
   "metadata": {},
   "outputs": [],
   "source": [
    "axes_id = dict(np.array([['7F.A01..BHZ' ,'7F.A02..BHZ' , '7F.A03..BHZ' , '7F.A04..BHZ' , '7F.A05..BHZ' , '7F.A06..BHZ' , '7F.A07..BHZ' , '7F.A08..BHZ' , '7F.A09..BHZ'  , '7F.A10..BHZ' , '7F.A11..BHZ', '7F.A13..BHZ', '7F.A14..BHZ', '7F.A19..BHZ'],[0,1,2,3,4,5,6,7,8,9,10,11,12,13], ]).transpose())\n",
    "for id in events.trace_ids.iloc[event_idx1]:\n",
    "    i = int(axes_id[id]) + 1\n",
    "    print(id)\n",
    "    print(i)"
   ]
  },
  {
   "cell_type": "code",
   "execution_count": null,
   "id": "df17df39",
   "metadata": {},
   "outputs": [],
   "source": [
    "axes_id = dict(np.array([['7F.A01..BHZ' ,'7F.A02..BHZ' , '7F.A03..BHZ' , '7F.A04..BHZ' , '7F.A05..BHZ' , '7F.A06..BHZ' , '7F.A07..BHZ' , '7F.A08..BHZ' , '7F.A09..BHZ'  , '7F.A10..BHZ' , '7F.A11..BHZ', '7F.A13..BHZ', '7F.A14..BHZ', '7F.A19..BHZ'],[0,1,2,3,4,5,6,7,8,9,10,11,12,13], ]).transpose())\n",
    "#axes_id = dict(np.array([['7F.B01..BHZ' ,'7F.B02..BHZ' , '7F.B03..BHZ' , '7F.B04..BHZ' , '7F.B06..BHZ' , '7F.B07..BHZ' , '7F.B08..BHZ' , '7F.B09..BHZ'  , '7F.B10..BHZ' , '7F.B11..BHZ', '7F.B12..BHZ' , '7F.B13..BHZ', '7F.B19..BHZ', '7F.B20..BHZ'],[0,1,2,3,4,5,6,7,8,9,10,11,12,13], ]).transpose())\n",
    "\n",
    "#axes_id = dict(np.array([['7F.B01..BHZ' ,'7F.B02..BHZ' , '7F.B03..BHZ' , '7F.B04..BHZ' , '7F.B06..BHZ' , '7F.B07..BHZ' , '7F.B08..BHZ' , '7F.B09..BHZ'  , '7F.B10..BHZ' , '7F.B11..BHZ', '7F.B12..BHZ' ,'7F.B13..BHZ','7F.B19..BHZ' '7F.B20..BHZ'],[0,1,2,3,4,5,6,7,8,9,10,11,12,13], ]).transpose())\n",
    "\n",
    "\n",
    "fig, ax = plt.subplots(len(events.trace_ids.iloc[event_idx]), figsize=(30, 75), sharex=True, sharey=False)\n",
    "\n",
    "#fig.text(s='duration (s) = '+str(events.duration), x=0.5, y=0.85, fontsize=15)\n",
    "#fig.text(s='coincidence sum = '+str(events.coincidence_sum), x=0.5, y=0.69, fontsize=15)\n",
    "#fig.text(s='starttime = '+str(start_time), x=0.35, y=0.525, fontsize=15)\n",
    "#props = dict(boxstyle='round', facecolor='wheat', alpha=0.5)\n",
    "#for i in np.arange(0, len(g_wind1), 1):\n",
    "for id in events.trace_ids.iloc[event_idx]:\n",
    "    i = int(axes_id[id])\n",
    "    # plot waveform\n",
    "    ax[i].plot(g_wind3[i].times('matplotlib'), g_wind3[i].data, color='limegreen', label=\"event_unfiltered\")\n",
    "    ax[i].plot(data_ev3_hp350[i].times('matplotlib'), data_ev3_hp350[i].data, 'blue', label = \"hp350\")\n",
    "    ax[i].plot(g_wind3[i].times('matplotlib'), data_ev3_bp[i].data, 'purple', label = \"bp100-250\")\n",
    "\n",
    "\n",
    "\n",
    "    # plot geophone name\n",
    "    ax[i].text(1, 15000, list(axes_id.keys())[i])\n",
    "    #ax[i].text(x=1.0, y=20000.0, s=\"LALALA\")\n",
    "    #ax[i].text(0.1, 0.9,'matplotlib', ha='center', va='center', transform=ax.transAxes)\n",
    "ax[i].legend(loc=\"upper right\")\n",
    "ax[i].xaxis.set_major_formatter(PrecisionDateFormatter(\"%H:%M:%S.{ms}\"))"
   ]
  },
  {
   "cell_type": "code",
   "execution_count": null,
   "id": "e32284f4",
   "metadata": {},
   "outputs": [],
   "source": [
    "axes_id = dict(np.array([['7F.A01..BHZ' ,'7F.A02..BHZ' , '7F.A03..BHZ' , '7F.A04..BHZ' , '7F.A05..BHZ' , '7F.A06..BHZ' , '7F.A07..BHZ' , '7F.A08..BHZ' , '7F.A09..BHZ'  , '7F.A10..BHZ' , '7F.A11..BHZ', '7F.A13..BHZ', '7F.A14..BHZ', '7F.A19..BHZ'],[0,1,2,3,4,5,6,7,8,9,10,11,12,13], ]).transpose())\n",
    "#axes_id = dict(np.array([['7F.B01..BHZ' ,'7F.B02..BHZ' , '7F.B03..BHZ' , '7F.B04..BHZ' , '7F.B06..BHZ' , '7F.B07..BHZ' , '7F.B08..BHZ' , '7F.B09..BHZ'  , '7F.B10..BHZ' , '7F.B11..BHZ', '7F.B12..BHZ' , '7F.B13..BHZ', '7F.B19..BHZ', '7F.B20..BHZ'],[0,1,2,3,4,5,6,7,8,9,10,11,12,13], ]).transpose())\n",
    "\n",
    "#axes_id = dict(np.array([['7F.B01..BHZ' ,'7F.B02..BHZ' , '7F.B03..BHZ' , '7F.B04..BHZ' , '7F.B06..BHZ' , '7F.B07..BHZ' , '7F.B08..BHZ' , '7F.B09..BHZ'  , '7F.B10..BHZ' , '7F.B11..BHZ', '7F.B12..BHZ' ,'7F.B13..BHZ','7F.B19..BHZ' '7F.B20..BHZ'],[0,1,2,3,4,5,6,7,8,9,10,11,12,13], ]).transpose())\n",
    "\n",
    "\n",
    "fig, ax = plt.subplots(len(events.trace_ids.iloc[event_idx]), figsize=(30, 75), sharex=True, sharey=False)\n",
    "\n",
    "#fig.text(s='duration (s) = '+str(events.duration), x=0.5, y=0.85, fontsize=15)\n",
    "#fig.text(s='coincidence sum = '+str(events.coincidence_sum), x=0.5, y=0.69, fontsize=15)\n",
    "#fig.text(s='starttime = '+str(start_time), x=0.35, y=0.525, fontsize=15)\n",
    "#props = dict(boxstyle='round', facecolor='wheat', alpha=0.5)\n",
    "#for i in np.arange(0, len(g_wind1), 1):\n",
    "for id in events.trace_ids.iloc[event_idx]:\n",
    "    i = int(axes_id[id])\n",
    "    # plot waveform\n",
    "    ax[i].plot(g_wind4[i].times('matplotlib'), g_wind4[i].data, color='limegreen', label=\"event_unfiltered\")\n",
    "    ax[i].plot(data_ev4_hp350[i].times('matplotlib'), data_ev4_hp350[i].data, 'blue', label = \"hp350\")\n",
    "    ax[i].plot(g_wind4[i].times('matplotlib'), data_ev4_bp[i].data, 'purple', label = \"bp100-250\")\n",
    "\n",
    "\n",
    "\n",
    "    # plot geophone name\n",
    "    ax[i].text(1, 15000, list(axes_id.keys())[i])\n",
    "    ax[i].text(1, 3000, r'an equation: $E=mc^2$', fontsize=15)\n",
    "    #ax[i].text(x=1.0, y=20000.0, s=\"LALALA\")\n",
    "    #ax[i].text(0.1, 0.9,'matplotlib', ha='center', va='center', transform=ax.transAxes)\n",
    "ax[i].legend(loc=\"upper right\")\n",
    "ax[i].xaxis.set_major_formatter(PrecisionDateFormatter(\"%H:%M:%S.{ms}\"))"
   ]
  },
  {
   "cell_type": "code",
   "execution_count": null,
   "id": "c4d15606",
   "metadata": {},
   "outputs": [],
   "source": [
    "axes_id = dict(np.array([['7F.A01..BHZ' ,'7F.A02..BHZ' , '7F.A03..BHZ' , '7F.A04..BHZ' , '7F.A05..BHZ' , '7F.A06..BHZ' , '7F.A07..BHZ' , '7F.A08..BHZ' , '7F.A09..BHZ'  , '7F.A10..BHZ' , '7F.A11..BHZ', '7F.A13..BHZ', '7F.A14..BHZ', '7F.A19..BHZ'],[0,1,2,3,4,5,6,7,8,9,10,11,12,13], ]).transpose())\n",
    "#axes_id = dict(np.array([['7F.B01..BHZ' ,'7F.B02..BHZ' , '7F.B03..BHZ' , '7F.B04..BHZ' , '7F.B06..BHZ' , '7F.B07..BHZ' , '7F.B08..BHZ' , '7F.B09..BHZ'  , '7F.B10..BHZ' , '7F.B11..BHZ', '7F.B12..BHZ' , '7F.B13..BHZ', '7F.B19..BHZ', '7F.B20..BHZ'],[0,1,2,3,4,5,6,7,8,9,10,11,12,13], ]).transpose())\n",
    "\n",
    "#axes_id = dict(np.array([['7F.B01..BHZ' ,'7F.B02..BHZ' , '7F.B03..BHZ' , '7F.B04..BHZ' , '7F.B06..BHZ' , '7F.B07..BHZ' , '7F.B08..BHZ' , '7F.B09..BHZ'  , '7F.B10..BHZ' , '7F.B11..BHZ', '7F.B12..BHZ' ,'7F.B13..BHZ','7F.B19..BHZ' '7F.B20..BHZ'],[0,1,2,3,4,5,6,7,8,9,10,11,12,13], ]).transpose())\n",
    "\n",
    "\n",
    "fig, ax = plt.subplots(len(events.trace_ids.iloc[event_idx]), figsize=(30, 75), sharex=True, sharey=False)\n",
    "\n",
    "#fig.text(s='duration (s) = '+str(events.duration), x=0.5, y=0.85, fontsize=15)\n",
    "#fig.text(s='coincidence sum = '+str(events.coincidence_sum), x=0.5, y=0.69, fontsize=15)\n",
    "#fig.text(s='starttime = '+str(start_time), x=0.35, y=0.525, fontsize=15)\n",
    "#props = dict(boxstyle='round', facecolor='wheat', alpha=0.5)\n",
    "#for i in np.arange(0, len(g_wind1), 1):\n",
    "for id in events.trace_ids.iloc[event_idx]:\n",
    "    i = int(axes_id[id])\n",
    "    # plot waveform\n",
    "    ax[i].plot(g_wind1[i].times('matplotlib'), g_wind1[i].data, color='limegreen', label=\"event_unfiltered\")\n",
    "    ax[i].plot(data_hp350[i].times('matplotlib'), data_hp350[i].data, 'blue', label = \"hp350\")\n",
    "    ax[i].plot(g_wind1[i].times('matplotlib'), data_bp[i].data, 'purple', label = \"bp100-250\")\n",
    "\n",
    "\n",
    "\n",
    "    # plot geophone name\n",
    "    ax[i].text(1, 15000, list(axes_id.keys())[i])\n",
    "    #ax[i].text(x=1.0, y=20000.0, s=\"LALALA\")\n",
    "    #ax[i].text(0.1, 0.9,'matplotlib', ha='center', va='center', transform=ax.transAxes)\n",
    "ax[i].legend(loc=\"upper right\")\n",
    "ax[i].xaxis.set_major_formatter(PrecisionDateFormatter(\"%H:%M:%S.{ms}\"))"
   ]
  },
  {
   "cell_type": "code",
   "execution_count": null,
   "id": "636c8af1",
   "metadata": {},
   "outputs": [],
   "source": []
  },
  {
   "cell_type": "code",
   "execution_count": null,
   "id": "babc8be8",
   "metadata": {},
   "outputs": [],
   "source": [
    "len(data_hp350[0])"
   ]
  },
  {
   "cell_type": "code",
   "execution_count": null,
   "id": "caf858d7",
   "metadata": {},
   "outputs": [],
   "source": [
    "plt.figure()\n",
    "plt.plot(g_wind1[1].times('matplotlib'),g_wind1[0].data, 'limegreen', label = \"main event\")\n",
    "#plt.plot(x,data_lp_hp,'green',label = \"lp hp\")\n",
    "#plt.plot(x, data_bp, 'blue', label = \"bp\")\n",
    "plt.plot(g_wind1[1].times('matplotlib'), data_hp350[0].data, 'blue', label = \"hp350\")\n",
    "plt.plot(g_wind1[1].times('matplotlib'), data_bp[0].data, 'purple', label = \"bp100-250\")\n",
    "\n",
    "plt.legend(loc=\"upper right\")"
   ]
  },
  {
   "cell_type": "code",
   "execution_count": null,
   "id": "6e319cd9",
   "metadata": {},
   "outputs": [],
   "source": [
    "g_wind1[i].times('matplotlib')"
   ]
  },
  {
   "cell_type": "code",
   "execution_count": null,
   "id": "8c53feff",
   "metadata": {},
   "outputs": [],
   "source": [
    "plt.figure()\n",
    "plt.plot(g_wind1[1].times('matplotlib'),g_wind1[1].data, 'limegreen', label = \"main event\")\n",
    "#plt.plot(x,data_lp_hp,'green',label = \"lp hp\")\n",
    "#plt.plot(x, data_bp, 'blue', label = \"bp\")\n",
    "plt.plot(g_wind1[1].times('matplotlib'), data_hp350[1].data, 'blue', label = \"hp350\")\n",
    "plt.plot(g_wind1[1].times('matplotlib'), data_bp[1].data, 'purple', label = \"bp100-250\")\n",
    "\n",
    "plt.legend(loc=\"upper right\")"
   ]
  },
  {
   "cell_type": "code",
   "execution_count": null,
   "id": "975341f9",
   "metadata": {},
   "outputs": [],
   "source": [
    "plt.figure()\n",
    "plt.plot(g_wind1[1].times('matplotlib'),g_wind1[2].data, 'limegreen', label = \"main event\")\n",
    "#plt.plot(x,data_lp_hp,'green',label = \"lp hp\")\n",
    "#plt.plot(x, data_bp, 'blue', label = \"bp\")\n",
    "plt.plot(g_wind1[1].times('matplotlib'), data_hp350[2].data, 'blue', label = \"hp350\")\n",
    "plt.plot(g_wind1[1].times('matplotlib'), data_bp[2].data, 'purple', label = \"bp100-250\")\n",
    "\n",
    "plt.legend(loc=\"upper right\")"
   ]
  },
  {
   "cell_type": "code",
   "execution_count": null,
   "id": "1cbf1ae3",
   "metadata": {},
   "outputs": [],
   "source": [
    "plt.figure()\n",
    "plt.plot(g_wind1[1].times('matplotlib'),g_wind1[3].data, 'limegreen', label = \"main event\")\n",
    "#plt.plot(x,data_lp_hp,'green',label = \"lp hp\")\n",
    "#plt.plot(x, data_bp, 'blue', label = \"bp\")\n",
    "plt.plot(g_wind1[1].times('matplotlib'), data_hp350[3].data, 'blue', label = \"hp350\")\n",
    "plt.plot(g_wind1[1].times('matplotlib'), data_bp[3].data, 'purple', label = \"bp100-250\")\n",
    "\n",
    "plt.legend(loc=\"upper right\")"
   ]
  },
  {
   "cell_type": "code",
   "execution_count": null,
   "id": "4fa24246",
   "metadata": {},
   "outputs": [],
   "source": [
    "plt.figure()\n",
    "plt.plot(g_wind1[1].times('matplotlib'),g_wind1[4].data, 'limegreen', label = \"main event\")\n",
    "#plt.plot(x,data_lp_hp,'green',label = \"lp hp\")\n",
    "#plt.plot(x, data_bp, 'blue', label = \"bp\")\n",
    "plt.plot(g_wind1[1].times('matplotlib'), data_hp350[4].data, 'blue', label = \"hp350\")\n",
    "plt.plot(g_wind1[1].times('matplotlib'), data_bp[4].data, 'purple', label = \"bp100-250\")\n",
    "\n",
    "plt.legend(loc=\"upper right\")"
   ]
  },
  {
   "cell_type": "code",
   "execution_count": null,
   "id": "4e7e22b9",
   "metadata": {},
   "outputs": [],
   "source": [
    "plt.figure()\n",
    "plt.plot(g_wind1[1].times('matplotlib'),g_wind1[5].data, 'limegreen', label = \"main event\")\n",
    "#plt.plot(x,data_lp_hp,'green',label = \"lp hp\")\n",
    "#plt.plot(x, data_bp, 'blue', label = \"bp\")\n",
    "plt.plot(g_wind1[1].times('matplotlib'), data_hp350[5].data, 'blue', label = \"hp350\")\n",
    "plt.plot(g_wind1[1].times('matplotlib'), data_bp[5].data, 'purple', label = \"bp100-250\")\n",
    "\n",
    "plt.legend(loc=\"upper right\")"
   ]
  },
  {
   "cell_type": "code",
   "execution_count": null,
   "id": "10c5fc7e",
   "metadata": {},
   "outputs": [],
   "source": []
  }
 ],
 "metadata": {
  "kernelspec": {
   "display_name": "Python 3 (ipykernel)",
   "language": "python",
   "name": "python3"
  },
  "language_info": {
   "codemirror_mode": {
    "name": "ipython",
    "version": 3
   },
   "file_extension": ".py",
   "mimetype": "text/x-python",
   "name": "python",
   "nbconvert_exporter": "python",
   "pygments_lexer": "ipython3",
   "version": "3.8.10"
  }
 },
 "nbformat": 4,
 "nbformat_minor": 5
}
