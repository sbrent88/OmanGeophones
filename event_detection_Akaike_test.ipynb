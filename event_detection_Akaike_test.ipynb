{
 "cells": [
  {
   "cell_type": "code",
   "execution_count": 2,
   "id": "fccecc02",
   "metadata": {},
   "outputs": [],
   "source": [
    "import obspy\n",
    "from obspy.signal.trigger import classic_sta_lta, recursive_sta_lta, aic_simple\n",
    "from obspy.signal.trigger import plot_trigger\n",
    "from obspy.signal.trigger import coincidence_trigger\n"
   ]
  },
  {
   "cell_type": "code",
   "execution_count": 3,
   "id": "285a6120",
   "metadata": {},
   "outputs": [
    {
     "data": {
      "text/html": [
       "<style>.container { width:100% !important; }</style>"
      ],
      "text/plain": [
       "<IPython.core.display.HTML object>"
      ]
     },
     "metadata": {},
     "output_type": "display_data"
    }
   ],
   "source": [
    "from IPython.display import display, HTML\n",
    "display(HTML(\"<style>.container { width:100% !important; }</style>\"))"
   ]
  },
  {
   "cell_type": "code",
   "execution_count": 4,
   "id": "a2e7e2e6",
   "metadata": {},
   "outputs": [],
   "source": [
    "chan = 'GHZ'\n",
    "#statlist = [ 'A01' ,'A03' , 'A05' , 'A07' , 'A09' , 'A11' , 'A13' , 'A15' , 'A17' , 'A19' ]\n",
    "statlist = ['A04']\n",
    "day = 15\n",
    "hr = 13"
   ]
  },
  {
   "cell_type": "code",
   "execution_count": 5,
   "id": "c990561e",
   "metadata": {},
   "outputs": [],
   "source": [
    "start_time = obspy.UTCDateTime('2020-1-' + str(day) + 'T00:00:00')"
   ]
  },
  {
   "cell_type": "code",
   "execution_count": 6,
   "id": "e43b625b",
   "metadata": {},
   "outputs": [],
   "source": [
    "stream = obspy.read(\"/media/sbrent/Oman3/PASSCAL/Main_deployment/DAYS/\" +statlist[0]+ \"/*..\" + chan +\".2020.0\" +str(day))"
   ]
  },
  {
   "cell_type": "code",
   "execution_count": 7,
   "id": "842d33d7",
   "metadata": {},
   "outputs": [
    {
     "data": {
      "text/plain": [
       "1 Trace(s) in Stream:\n",
       "7F.A04..BHZ | 2020-01-15T00:00:00.000000Z - 2020-01-15T23:59:59.999000Z | 1000.0 Hz, 86400000 samples"
      ]
     },
     "execution_count": 7,
     "metadata": {},
     "output_type": "execute_result"
    }
   ],
   "source": [
    "stream.normalize()"
   ]
  },
  {
   "cell_type": "code",
   "execution_count": 8,
   "id": "85c538ed",
   "metadata": {},
   "outputs": [],
   "source": [
    "stream_snapshot = stream.slice(starttime=start_time+hr*3600,endtime=start_time+(hr+1)*3600)"
   ]
  },
  {
   "cell_type": "code",
   "execution_count": 9,
   "id": "b386966e",
   "metadata": {},
   "outputs": [],
   "source": [
    "stream_z = stream_snapshot.select(component=\"Z\")"
   ]
  },
  {
   "cell_type": "code",
   "execution_count": 10,
   "id": "2dad1710",
   "metadata": {},
   "outputs": [],
   "source": [
    "tr = stream_z[0]"
   ]
  },
  {
   "cell_type": "code",
   "execution_count": 11,
   "id": "0372bc00",
   "metadata": {},
   "outputs": [],
   "source": [
    "tr_filt = tr.copy()"
   ]
  },
  {
   "cell_type": "code",
   "execution_count": 12,
   "id": "18d637f8",
   "metadata": {},
   "outputs": [
    {
     "data": {
      "text/plain": [
       "7F.A04..BHZ | 2020-01-15T13:00:00.000000Z - 2020-01-15T14:00:00.000000Z | 1000.0 Hz, 3600001 samples"
      ]
     },
     "execution_count": 12,
     "metadata": {},
     "output_type": "execute_result"
    }
   ],
   "source": [
    "tr_filt.filter('highpass', corners=4, freq=20, zerophase=True)"
   ]
  },
  {
   "cell_type": "code",
   "execution_count": 13,
   "id": "bde274be",
   "metadata": {},
   "outputs": [
    {
     "data": {
      "image/png": "[encoded data removed]",
      "text/plain": [
       "<Figure size 800x250 with 1 Axes>"
      ]
     },
     "metadata": {
      "needs_background": "light"
     },
     "output_type": "display_data"
    }
   ],
   "source": [
    "z = stream_z.plot()"
   ]
  },
  {
   "cell_type": "code",
   "execution_count": 14,
   "id": "a2469a84",
   "metadata": {},
   "outputs": [],
   "source": [
    "df = tr_filt.stats.sampling_rate"
   ]
  },
  {
   "cell_type": "code",
   "execution_count": 15,
   "id": "8ce7400c",
   "metadata": {},
   "outputs": [],
   "source": [
    "aic_f = aic_simple(tr_filt.data)"
   ]
  },
  {
   "cell_type": "code",
   "execution_count": 16,
   "id": "3fd3f544",
   "metadata": {},
   "outputs": [],
   "source": [
    "p_idx = aic_f.argmin()"
   ]
  },
  {
   "cell_type": "code",
   "execution_count": 17,
   "id": "0256fd1b",
   "metadata": {},
   "outputs": [
    {
     "name": "stdout",
     "output_type": "stream",
     "text": [
      "3410.472\n",
      "3410472\n"
     ]
    }
   ],
   "source": [
    "print(p_idx / df)\n",
    "print(p_idx)"
   ]
  },
  {
   "cell_type": "code",
   "execution_count": 19,
   "id": "b9862acb",
   "metadata": {},
   "outputs": [
    {
     "name": "stdout",
     "output_type": "stream",
     "text": [
      "2020-01-15T13:56:50.472000Z\n"
     ]
    }
   ],
   "source": [
    "print(start_time+hr*3600 + (p_idx / df))"
   ]
  },
  {
   "cell_type": "code",
   "execution_count": null,
   "id": "4cbb4348",
   "metadata": {},
   "outputs": [],
   "source": []
  }
 ],
 "metadata": {
  "kernelspec": {
   "display_name": "Python 3 (ipykernel)",
   "language": "python",
   "name": "python3"
  },
  "language_info": {
   "codemirror_mode": {
    "name": "ipython",
    "version": 3
   },
   "file_extension": ".py",
   "mimetype": "text/x-python",
   "name": "python",
   "nbconvert_exporter": "python",
   "pygments_lexer": "ipython3",
   "version": "3.8.10"
  }
 },
 "nbformat": 4,
 "nbformat_minor": 5
}
