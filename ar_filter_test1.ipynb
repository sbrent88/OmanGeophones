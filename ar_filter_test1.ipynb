{
 "cells": [
  {
   "cell_type": "code",
   "execution_count": 1,
   "id": "8bf95d70",
   "metadata": {},
   "outputs": [],
   "source": [
    "%matplotlib widget\n",
    "import obspy\n",
    "from obspy.signal.trigger import classic_sta_lta, recursive_sta_lta, aic_simple\n",
    "from obspy.signal.trigger import plot_trigger\n",
    "from obspy.signal.trigger import coincidence_trigger\n",
    "from obspy.signal.trigger import ar_pick\n",
    "from obspy.signal.cross_correlation import correlation_detector\n",
    "from obspy.realtime.signal import kurtosis\n",
    "from pprint import pprint\n",
    "import pandas as pd\n",
    "import numpy as np\n",
    "import matplotlib.pyplot as plt\n",
    "import plot_working\n",
    "import event_processing\n",
    "import matplotlib.ticker as ticker\n",
    "from datetime import datetime\n",
    "from datetime import timedelta"
   ]
  },
  {
   "cell_type": "code",
   "execution_count": 2,
   "id": "ec7e55e1",
   "metadata": {},
   "outputs": [
    {
     "data": {
      "text/html": [
       "<style>.container { width:100% !important; }</style>"
      ],
      "text/plain": [
       "<IPython.core.display.HTML object>"
      ]
     },
     "metadata": {},
     "output_type": "display_data"
    }
   ],
   "source": [
    "from IPython.display import display, HTML\n",
    "display(HTML(\"<style>.container { width:100% !important; }</style>\"))"
   ]
  },
  {
   "cell_type": "code",
   "execution_count": 3,
   "id": "e49ebd6b",
   "metadata": {},
   "outputs": [],
   "source": [
    "chan_z = 'GHZ'\n",
    "chan_x = 'GH2'\n",
    "chan_y = 'GH1'\n",
    "#statlist = [ 'A01' ,'A03' , 'A05' , 'A07' , 'A09' , 'A11' , 'A13' , 'A15' , 'A17' , 'A19' ]\n",
    "statlist = [ 'A01' ,'A04']# , 'A03' , 'A04']# , 'A05' , 'A06' , 'A07' , 'A08' , 'A09', 'A10' , 'A11', 'A13', 'A14', 'A19']#, 'A16', 'A17', 'A18', 'A19' ]\n",
    "#statlist = [ 'B01' ,'B02' , 'B03' , 'B04' , 'B06' , 'B07' , 'B08' , 'B09','B10' , 'B11', 'B12', 'B13' , 'B19' , 'B20']#,'B14','B15','B16','B17','B18','B19', 'B20' ]\n",
    "\n",
    "day = 15\n",
    "hr = 15\n",
    "start_time = obspy.UTCDateTime('2020-1-' + str(day) + 'T00:00:00')+hr*3600\n",
    "end_time = obspy.UTCDateTime('2020-1-' + str(day) + 'T00:00:00')+(hr+1)*3600\n",
    "stream_z = obspy.read(\"/media/sbrent/Oman3/PASSCAL/Main_deployment/DAYS/\" +statlist[0]+ \"/*..\" + chan_z +\".2020.0\" +str(day))\n",
    "stream_x = obspy.read(\"/media/sbrent/Oman3/PASSCAL/Main_deployment/DAYS/\" +statlist[0]+ \"/*..\" + chan_x +\".2020.0\" +str(day))\n",
    "stream_y = obspy.read(\"/media/sbrent/Oman3/PASSCAL/Main_deployment/DAYS/\" +statlist[0]+ \"/*..\" + chan_y +\".2020.0\" +str(day))"
   ]
  },
  {
   "cell_type": "code",
   "execution_count": 4,
   "id": "bb1013a5",
   "metadata": {},
   "outputs": [],
   "source": [
    "for s in statlist[1:]:\n",
    "    \n",
    "    stream_z += obspy.read(\"/media/sbrent/Oman3/PASSCAL/Main_deployment/DAYS/\" + s + \"/*..\" + chan_z + \".2020.0\" + str(day))\n",
    "    stream_x += obspy.read(\"/media/sbrent/Oman3/PASSCAL/Main_deployment/DAYS/\" + s + \"/*..\" + chan_x + \".2020.0\" + str(day))\n",
    "    stream_y += obspy.read(\"/media/sbrent/Oman3/PASSCAL/Main_deployment/DAYS/\" + s + \"/*..\" + chan_y + \".2020.0\" + str(day))"
   ]
  },
  {
   "cell_type": "code",
   "execution_count": 5,
   "id": "8c036896",
   "metadata": {},
   "outputs": [],
   "source": [
    "data_z = stream_z.slice(starttime=start_time,endtime=end_time)\n",
    "data_x = stream_x.slice(starttime=start_time,endtime=end_time) #look into trim()\n",
    "data_y = stream_y.slice(starttime=start_time,endtime=end_time) #look into trim()"
   ]
  },
  {
   "cell_type": "code",
   "execution_count": 6,
   "id": "f70e29a9",
   "metadata": {},
   "outputs": [],
   "source": [
    "class PrecisionDateFormatter(ticker.Formatter):\n",
    "    \"\"\"\n",
    "    Extend the `matplotlib.ticker.Formatter` class to allow for millisecond\n",
    "    precision when formatting a tick (in days since the epoch) with a\n",
    "    `~datetime.datetime.strftime` format string.\n",
    "\n",
    "    \"\"\"\n",
    "\n",
    "    def __init__(self, fmt, precision=3, tz=None):\n",
    "        \"\"\"\n",
    "        Parameters\n",
    "        ----------\n",
    "        fmt : str\n",
    "            `~datetime.datetime.strftime` format string.\n",
    "        \"\"\"\n",
    "        from matplotlib.dates import num2date\n",
    "        if tz is None:\n",
    "            from matplotlib.dates import _get_rc_timezone\n",
    "            tz = _get_rc_timezone()\n",
    "        self.num2date = num2date\n",
    "        self.fmt = fmt\n",
    "        self.tz = tz\n",
    "        self.precision = precision\n",
    "\n",
    "    def __call__(self, x, pos=0):\n",
    "        if x == 0:\n",
    "            raise ValueError(\"DateFormatter found a value of x=0, which is \"\n",
    "                             \"an illegal date; this usually occurs because \"\n",
    "                             \"you have not informed the axis that it is \"\n",
    "                             \"plotting dates, e.g., with ax.xaxis_date()\")\n",
    "\n",
    "        dt = self.num2date(x, self.tz)\n",
    "        ms = dt.strftime(\"%f\")[:self.precision]\n",
    "\n",
    "        return dt.strftime(self.fmt).format(ms=ms)\n",
    "\n",
    "    def set_tzinfo(self, tz):\n",
    "        self.tz = tz"
   ]
  },
  {
   "cell_type": "code",
   "execution_count": 7,
   "id": "e61d81f7",
   "metadata": {},
   "outputs": [],
   "source": [
    "win_time = obspy.UTCDateTime('2020-1-' + str(day) + 'T15:21:47')\n",
    "g_wind = event_processing.get_event_window_raw(data_z,win_time)"
   ]
  },
  {
   "cell_type": "code",
   "execution_count": 8,
   "id": "23547ca1",
   "metadata": {},
   "outputs": [
    {
     "name": "stdout",
     "output_type": "stream",
     "text": [
      "2020-01-15T15:21:46.900000Z\n",
      "2020-01-15T15:21:47.800000Z\n",
      "2020-01-15T15:21:46.900000Z\n",
      "2020-01-15T15:21:47.800000Z\n",
      "2020-01-15T15:21:46.900000Z\n",
      "2020-01-15T15:21:47.800000Z\n"
     ]
    }
   ],
   "source": [
    "win_time = obspy.UTCDateTime('2020-1-' + str(day) + 'T15:21:47')\n",
    "data_window_z = event_processing.get_waveforms_window(data_z,win_time)\n",
    "data_window_x = event_processing.get_waveforms_window(data_x,win_time)\n",
    "data_window_y = event_processing.get_waveforms_window(data_y,win_time)"
   ]
  },
  {
   "cell_type": "code",
   "execution_count": 9,
   "id": "89e50d5f",
   "metadata": {},
   "outputs": [],
   "source": [
    "data_z_cp = data_window_z.copy()"
   ]
  },
  {
   "cell_type": "code",
   "execution_count": 26,
   "id": "91c39f6a",
   "metadata": {},
   "outputs": [],
   "source": [
    "data_z_filtered_cp = data_window_z.copy()\n",
    "data_z_filtered_cp2 = data_window_z.copy()\n",
    "data_z_filtered_cp3 = data_window_z.copy()\n",
    "data_z_filtered_cp4 = data_window_z.copy()\n",
    "data_z_filtered_cp5 = data_window_z.copy()\n"
   ]
  },
  {
   "cell_type": "code",
   "execution_count": 11,
   "id": "50794094",
   "metadata": {},
   "outputs": [],
   "source": [
    "data_z_filtered_cp4070 = data_z_filtered_cp.filter('bandpass', freqmin=40, freqmax=70, zerophase=True, corners=4)"
   ]
  },
  {
   "cell_type": "code",
   "execution_count": 12,
   "id": "ac103409",
   "metadata": {},
   "outputs": [],
   "source": [
    "data_z_filtered_cp70200 = data_z_filtered_cp2.filter('bandpass', freqmin=70, freqmax=200, zerophase=True, corners=4)"
   ]
  },
  {
   "cell_type": "code",
   "execution_count": 13,
   "id": "23b6bec2",
   "metadata": {},
   "outputs": [],
   "source": [
    "data_z_filtered_cp70200 = data_z_filtered_cp3.filter('bandpass', freqmin=40, freqmax=200, zerophase=True, corners=4)"
   ]
  },
  {
   "cell_type": "code",
   "execution_count": 20,
   "id": "dd5173e6",
   "metadata": {},
   "outputs": [],
   "source": [
    "data_z_filtered_cp200 = data_z_filtered_cp4.filter('highpass', corners=4, freq=200, zerophase=False)"
   ]
  },
  {
   "cell_type": "code",
   "execution_count": 30,
   "id": "028de905",
   "metadata": {},
   "outputs": [],
   "source": [
    "data_z_filtered_cp05 = data_z_filtered_cp5.filter('lowpass', corners=4, freq=0.05, zerophase=True)"
   ]
  },
  {
   "cell_type": "code",
   "execution_count": 14,
   "id": "d9054935",
   "metadata": {},
   "outputs": [],
   "source": [
    "T_in = data_z_filtered_cp4070[0].times(\"matplotlib\")"
   ]
  },
  {
   "cell_type": "code",
   "execution_count": 15,
   "id": "48ac10a3",
   "metadata": {},
   "outputs": [],
   "source": [
    "import numpy as np\n",
    "from copy import copy, deepcopy\n",
    "from obspy.core import Trace\n",
    "\n",
    "\n",
    "def do_fft(signal, delta):\n",
    "    \"\"\"Compute the complex Fourier transform of a signal.\"\"\"\n",
    "    npts = len(signal)\n",
    "    if not npts % 2:\n",
    "        npts -= 1\n",
    "\n",
    "    fft = np.fft.rfft(signal, n=npts) * delta\n",
    "    fftfreq = np.fft.fftfreq(len(signal), d=delta)\n",
    "    fftfreq = fftfreq[0:fft.size]\n",
    "    return fft, fftfreq\n",
    "\n",
    "\n",
    "\n",
    "def do_spectrum(trace):\n",
    "    \"\"\"Compute the spectrum of an ObsPy Trace object.\"\"\"\n",
    "    signal = trace.data\n",
    "    delta = trace.stats.delta\n",
    "    amp, freq = do_fft(signal, delta)\n",
    "    return amp, freq"
   ]
  },
  {
   "cell_type": "code",
   "execution_count": null,
   "id": "8971ed3e",
   "metadata": {},
   "outputs": [],
   "source": [
    "fig, ax = plt.subplots(1, figsize=(17, 10), sharex=True, sharey=False)\n",
    "\n",
    "#for i in np.arange(0, len(data), 1):\n",
    "    # plot waveform\n",
    "#ax.plot(T_in, data_z_filtered_cp4070[0].data, color='black')\n",
    "#ax.plot(T_in, data_z_filtered_cp70200[0].data, color='blue')\n",
    "ax.plot(T_in, data_z_cp[0].data, 'green')\n",
    "    #ax[i].plot(times_mat[i], waveforms_hp[i], color='blue')\n",
    "#ax.plot(data[0].times('matplotlib'), stream_bp1[0].data, color='green')\n",
    "#ax.plot(data[0].times('matplotlib'), stream_bp2[0].data, color='blue')\n",
    "#ax.plot(data[0].times('matplotlib'), stream_bp3[0].data, color='orange')\n",
    "\n",
    "#ax.plot(data[0].times('matplotlib'), stream_bp4[0].data, color='red')\n",
    "#ax.plot(data[0].times('matplotlib'), stream_bp5[0].data, color='violet')\n",
    "#ax.plot(data[0].times('matplotlib'), stream_bp6[0].data, color='dodgerblue')\n",
    "#ax.plot(data[0].times('matplotlib'), stream_bp7[0].data, color='gray')\n",
    "#plt.axvline(x = p_pick_plt, color = 'b', label = 'axvline - full height')\n",
    "#plt.axvline(x = T_in_utcd[0]+ p_pick2, color = 'r', label = 'axvline - full height')\n",
    "#ax.plot(T_in_utcd[0] + p_pick, 5000, color='darkred')\n",
    "ax.xaxis.set_major_formatter(PrecisionDateFormatter(\"%H:%M:%S.{ms}\"))"
   ]
  },
  {
   "cell_type": "code",
   "execution_count": null,
   "id": "799d85c1",
   "metadata": {},
   "outputs": [],
   "source": [
    "fig, ax = plt.subplots(1, figsize=(17, 10), sharex=True, sharey=False)\n",
    "\n",
    "#for i in np.arange(0, len(data), 1):\n",
    "    # plot waveform\n",
    "ax.plot(T_in, data_z_filtered_cp4070[0].data, color='black')\n",
    "ax.plot(T_in, data_z_filtered_cp70200[0].data, color='blue')\n",
    "ax.plot(T_in, data_z_cp[0].data, 'green')\n",
    "    #ax[i].plot(times_mat[i], waveforms_hp[i], color='blue')\n",
    "#ax.plot(data[0].times('matplotlib'), stream_bp1[0].data, color='green')\n",
    "#ax.plot(data[0].times('matplotlib'), stream_bp2[0].data, color='blue')\n",
    "#ax.plot(data[0].times('matplotlib'), stream_bp3[0].data, color='orange')\n",
    "\n",
    "#ax.plot(data[0].times('matplotlib'), stream_bp4[0].data, color='red')\n",
    "#ax.plot(data[0].times('matplotlib'), stream_bp5[0].data, color='violet')\n",
    "#ax.plot(data[0].times('matplotlib'), stream_bp6[0].data, color='dodgerblue')\n",
    "#ax.plot(data[0].times('matplotlib'), stream_bp7[0].data, color='gray')\n",
    "#plt.axvline(x = p_pick_plt, color = 'b', label = 'axvline - full height')\n",
    "#plt.axvline(x = T_in_utcd[0]+ p_pick2, color = 'r', label = 'axvline - full height')\n",
    "#ax.plot(T_in_utcd[0] + p_pick, 5000, color='darkred')\n",
    "ax.xaxis.set_major_formatter(PrecisionDateFormatter(\"%H:%M:%S.{ms}\"))"
   ]
  },
  {
   "cell_type": "code",
   "execution_count": 33,
   "id": "a7a27348",
   "metadata": {},
   "outputs": [],
   "source": [
    "amp, freq = do_spectrum(data_z_cp[1])"
   ]
  },
  {
   "cell_type": "code",
   "execution_count": 34,
   "id": "eff4c8dc",
   "metadata": {},
   "outputs": [
    {
     "data": {
      "text/plain": [
       "[<matplotlib.lines.Line2D at 0x7f92d28b7df0>]"
      ]
     },
     "execution_count": 34,
     "metadata": {},
     "output_type": "execute_result"
    },
    {
     "data": {
      "application/vnd.jupyter.widget-view+json": {
       "model_id": "b42b8510151b4b1b905e6e34b89faedf",
       "version_major": 2,
       "version_minor": 0
      },
      "image/png": "[encoded data removed]",
      "text/html": [
       "\n",
       "            <div style=\"display: inline-block;\">\n",
       "                <div class=\"jupyter-widgets widget-label\" style=\"text-align: center;\">\n",
       "                    Figure\n",
       "                </div>\n",
       "                <img src='data:image/png;base64,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' width=1700.0/>\n",
       "            </div>\n",
       "        "
      ],
      "text/plain": [
       "Canvas(toolbar=Toolbar(toolitems=[('Home', 'Reset original view', 'home', 'home'), ('Back', 'Back to previous …"
      ]
     },
     "metadata": {},
     "output_type": "display_data"
    }
   ],
   "source": [
    "fig, ax = plt.subplots(1, figsize=(17, 10), sharex=True, sharey=False)\n",
    "\n",
    "#for i in np.arange(0, len(data), 1):\n",
    "    # plot waveform\n",
    "ax.plot(freq, abs(amp), color='darkred')"
   ]
  },
  {
   "cell_type": "code",
   "execution_count": null,
   "id": "83a5a896",
   "metadata": {},
   "outputs": [],
   "source": [
    "data_z_cp[2]"
   ]
  },
  {
   "cell_type": "code",
   "execution_count": null,
   "id": "3e79e706",
   "metadata": {},
   "outputs": [],
   "source": [
    "## AIC Stuff "
   ]
  },
  {
   "cell_type": "code",
   "execution_count": null,
   "id": "eff89ce6",
   "metadata": {},
   "outputs": [],
   "source": [
    "aic_tz, aicsz = event_processing.aic_pick(data_window_z)\n",
    "aic_tx, aicsx = event_processing.aic_pick(data_window_x)\n",
    "aic_ty, aicsy = event_processing.aic_pick(data_window_y)"
   ]
  },
  {
   "cell_type": "code",
   "execution_count": null,
   "id": "ab6c6a1d",
   "metadata": {},
   "outputs": [],
   "source": [
    "event_processing.plot_waveforms_with_aic(data_window_z,aicsz,aic_tz)"
   ]
  },
  {
   "cell_type": "code",
   "execution_count": null,
   "id": "320c217f",
   "metadata": {},
   "outputs": [],
   "source": [
    "event_processing.plot_waveforms_with_aic(data_window_x,aicsx,aic_tx)"
   ]
  },
  {
   "cell_type": "code",
   "execution_count": null,
   "id": "f0b57ec1",
   "metadata": {},
   "outputs": [],
   "source": [
    "event_processing.plot_waveforms_with_aic(data_window_y,aicsy,aic_ty)"
   ]
  },
  {
   "cell_type": "code",
   "execution_count": null,
   "id": "b4ba69c8",
   "metadata": {},
   "outputs": [],
   "source": []
  },
  {
   "cell_type": "code",
   "execution_count": null,
   "id": "23f51247",
   "metadata": {},
   "outputs": [],
   "source": []
  },
  {
   "cell_type": "code",
   "execution_count": null,
   "id": "5c753634",
   "metadata": {},
   "outputs": [],
   "source": []
  },
  {
   "cell_type": "code",
   "execution_count": null,
   "id": "bb3abd6b",
   "metadata": {},
   "outputs": [],
   "source": [
    "df = data_window_z[0].stats.sampling_rate\n",
    "p_pick1, s_pick1 = ar_pick(data_window_z[0].data, data_window_y[0].data, data_window_x[0].data, df,f1=30.0, f2=200.0, lta_p=0.2, sta_p=0.02, lta_s=0.1, sta_s=0.01,m_p=1, m_s=1, l_p=0.1, l_s=0.4)\n"
   ]
  },
  {
   "cell_type": "code",
   "execution_count": null,
   "id": "8a01b663",
   "metadata": {},
   "outputs": [],
   "source": [
    "#p_pick2, s_pick2 = ar_pick(data_window_z[0].data, data_window_x[0].data, data_window_y[0].data, df,f1=30.0, f2=200.0, lta_p=0.2, sta_p=0.02, lta_s=0.1, sta_s=0.05,m_p=2, m_s=8, l_p=0.2, l_s=0.2, s_pick = True)"
   ]
  },
  {
   "cell_type": "code",
   "execution_count": null,
   "id": "ceb0841e",
   "metadata": {},
   "outputs": [],
   "source": []
  },
  {
   "cell_type": "code",
   "execution_count": null,
   "id": "7d3c02cc",
   "metadata": {},
   "outputs": [],
   "source": [
    "T_in = data_window_z[0].times(\"matplotlib\")\n",
    "T_in_utcd = data_window_z[0].times(\"utcdatetime\")\n",
    "t_in_ucd_test1 = obspy.core.utcdatetime.UTCDateTime(data_window_z[0].stats.starttime) + p_pick1\n",
    "p_pick_plt = t_in_ucd_test1.matplotlib_date"
   ]
  },
  {
   "cell_type": "code",
   "execution_count": null,
   "id": "2a6fa815",
   "metadata": {},
   "outputs": [],
   "source": []
  },
  {
   "cell_type": "code",
   "execution_count": null,
   "id": "a1a9b04d",
   "metadata": {},
   "outputs": [],
   "source": [
    "T_in_utcd[0]"
   ]
  },
  {
   "cell_type": "code",
   "execution_count": null,
   "id": "77116079",
   "metadata": {},
   "outputs": [],
   "source": []
  },
  {
   "cell_type": "code",
   "execution_count": null,
   "id": "ff431c72",
   "metadata": {},
   "outputs": [],
   "source": []
  },
  {
   "cell_type": "code",
   "execution_count": null,
   "id": "7cb59396",
   "metadata": {},
   "outputs": [],
   "source": [
    "p_pick1"
   ]
  },
  {
   "cell_type": "code",
   "execution_count": null,
   "id": "f1a76bc9",
   "metadata": {},
   "outputs": [],
   "source": [
    "s_pick1"
   ]
  },
  {
   "cell_type": "code",
   "execution_count": null,
   "id": "21218098",
   "metadata": {},
   "outputs": [],
   "source": []
  },
  {
   "cell_type": "code",
   "execution_count": null,
   "id": "50fd8a1c",
   "metadata": {},
   "outputs": [],
   "source": [
    "data_window_z_bp = data_window_z.filter('bandpass', freqmin=50, freqmax=200, zerophase=True)"
   ]
  },
  {
   "cell_type": "code",
   "execution_count": null,
   "id": "f4a71bcf",
   "metadata": {},
   "outputs": [],
   "source": [
    "kt = kurtosis(data_window_z_bp[0],4)"
   ]
  },
  {
   "cell_type": "code",
   "execution_count": null,
   "id": "8aac6e70",
   "metadata": {},
   "outputs": [],
   "source": [
    "np.max(kt)"
   ]
  },
  {
   "cell_type": "code",
   "execution_count": null,
   "id": "32a3d352",
   "metadata": {},
   "outputs": [],
   "source": [
    "fig, ax = plt.subplots(1, figsize=(17, 10), sharex=True, sharey=False)\n",
    "\n",
    "#for i in np.arange(0, len(data), 1):\n",
    "    # plot waveform\n",
    "ax.plot(T_in, data_window_z_bp[0].data, color='black')\n",
    "ax.plot(T_in, kt, 'green')\n",
    "    #ax[i].plot(times_mat[i], waveforms_hp[i], color='blue')\n",
    "#ax.plot(data[0].times('matplotlib'), stream_bp1[0].data, color='green')\n",
    "#ax.plot(data[0].times('matplotlib'), stream_bp2[0].data, color='blue')\n",
    "#ax.plot(data[0].times('matplotlib'), stream_bp3[0].data, color='orange')\n",
    "\n",
    "#ax.plot(data[0].times('matplotlib'), stream_bp4[0].data, color='red')\n",
    "#ax.plot(data[0].times('matplotlib'), stream_bp5[0].data, color='violet')\n",
    "#ax.plot(data[0].times('matplotlib'), stream_bp6[0].data, color='dodgerblue')\n",
    "#ax.plot(data[0].times('matplotlib'), stream_bp7[0].data, color='gray')\n",
    "plt.axvline(x = p_pick_plt, color = 'b', label = 'axvline - full height')\n",
    "#plt.axvline(x = T_in_utcd[0]+ p_pick2, color = 'r', label = 'axvline - full height')\n",
    "#ax.plot(T_in_utcd[0] + p_pick, 5000, color='darkred')\n",
    "ax.xaxis.set_major_formatter(PrecisionDateFormatter(\"%H:%M:%S.{ms}\"))"
   ]
  },
  {
   "cell_type": "code",
   "execution_count": null,
   "id": "74138376",
   "metadata": {},
   "outputs": [],
   "source": [
    "import numpy as np\n",
    "from copy import copy, deepcopy\n",
    "from obspy.core import Trace\n",
    "\n",
    "\n",
    "def do_fft(signal, delta):\n",
    "    \"\"\"Compute the complex Fourier transform of a signal.\"\"\"\n",
    "    npts = len(signal)\n",
    "    if not npts % 2:\n",
    "        npts -= 1\n",
    "\n",
    "    fft = np.fft.rfft(signal, n=npts) * delta\n",
    "    fftfreq = np.fft.fftfreq(len(signal), d=delta)\n",
    "    fftfreq = fftfreq[0:fft.size]\n",
    "    return fft, fftfreq\n",
    "\n",
    "\n",
    "\n",
    "def do_spectrum(trace):\n",
    "    \"\"\"Compute the spectrum of an ObsPy Trace object.\"\"\"\n",
    "    signal = trace.data\n",
    "    delta = trace.stats.delta\n",
    "    amp, freq = do_fft(signal, delta)\n",
    "    return amp, freq\n"
   ]
  },
  {
   "cell_type": "code",
   "execution_count": null,
   "id": "431521d8",
   "metadata": {},
   "outputs": [],
   "source": [
    "amp, freq = do_spectrum(data_z_cp[0])"
   ]
  },
  {
   "cell_type": "code",
   "execution_count": null,
   "id": "8a4157dd",
   "metadata": {},
   "outputs": [],
   "source": [
    "#plt.plot(freq, abs(amp), 'green')\n",
    "#plt.xlabel('Frequency (Hz)')\n",
    "#plt.ylabel('Amplitude')\n",
    "#plt.show()"
   ]
  },
  {
   "cell_type": "code",
   "execution_count": null,
   "id": "2b3e6bc8",
   "metadata": {},
   "outputs": [],
   "source": [
    "fig, ax = plt.subplots(1, figsize=(17, 10), sharex=True, sharey=False)\n",
    "\n",
    "#for i in np.arange(0, len(data), 1):\n",
    "    # plot waveform\n",
    "ax.plot(freq, abs(amp), color='green')"
   ]
  },
  {
   "cell_type": "code",
   "execution_count": null,
   "id": "4969dd21",
   "metadata": {},
   "outputs": [],
   "source": []
  },
  {
   "cell_type": "code",
   "execution_count": null,
   "id": "2c3b84c9",
   "metadata": {},
   "outputs": [],
   "source": []
  },
  {
   "cell_type": "code",
   "execution_count": null,
   "id": "36ac5af2",
   "metadata": {},
   "outputs": [],
   "source": []
  },
  {
   "cell_type": "code",
   "execution_count": null,
   "id": "e72e674b",
   "metadata": {},
   "outputs": [],
   "source": [
    "data_z_cp"
   ]
  },
  {
   "cell_type": "code",
   "execution_count": null,
   "id": "64a1a9f5",
   "metadata": {},
   "outputs": [],
   "source": [
    "len(freq)"
   ]
  },
  {
   "cell_type": "code",
   "execution_count": null,
   "id": "b72c6d2f",
   "metadata": {},
   "outputs": [],
   "source": [
    "len(amp)"
   ]
  },
  {
   "cell_type": "code",
   "execution_count": null,
   "id": "5b7c7fbb",
   "metadata": {},
   "outputs": [],
   "source": [
    "freq"
   ]
  },
  {
   "cell_type": "code",
   "execution_count": null,
   "id": "ce55b572",
   "metadata": {},
   "outputs": [],
   "source": [
    "abs(amp)"
   ]
  },
  {
   "cell_type": "code",
   "execution_count": null,
   "id": "cf37bfae",
   "metadata": {},
   "outputs": [],
   "source": []
  },
  {
   "cell_type": "code",
   "execution_count": null,
   "id": "32d45d70",
   "metadata": {},
   "outputs": [],
   "source": []
  },
  {
   "cell_type": "code",
   "execution_count": null,
   "id": "5df24882",
   "metadata": {},
   "outputs": [],
   "source": [
    "#print(amp) "
   ]
  },
  {
   "cell_type": "code",
   "execution_count": null,
   "id": "34ba09de",
   "metadata": {},
   "outputs": [],
   "source": [
    "#print(freq)"
   ]
  },
  {
   "cell_type": "code",
   "execution_count": null,
   "id": "5a10ef3b",
   "metadata": {},
   "outputs": [],
   "source": []
  }
 ],
 "metadata": {
  "kernelspec": {
   "display_name": "Python 3 (ipykernel)",
   "language": "python",
   "name": "python3"
  },
  "language_info": {
   "codemirror_mode": {
    "name": "ipython",
    "version": 3
   },
   "file_extension": ".py",
   "mimetype": "text/x-python",
   "name": "python",
   "nbconvert_exporter": "python",
   "pygments_lexer": "ipython3",
   "version": "3.8.10"
  }
 },
 "nbformat": 4,
 "nbformat_minor": 5
}
